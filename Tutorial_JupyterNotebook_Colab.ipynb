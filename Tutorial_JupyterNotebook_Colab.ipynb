{
  "nbformat": 4,
  "nbformat_minor": 0,
  "metadata": {
    "colab": {
      "name": "Tutorial_JupyterNotebook_Colab.ipynb",
      "provenance": [],
      "collapsed_sections": [],
      "authorship_tag": "ABX9TyO/52XYSU7mIubOyiStz2sU",
      "include_colab_link": true
    },
    "kernelspec": {
      "name": "python3",
      "display_name": "Python 3"
    },
    "language_info": {
      "name": "python"
    }
  },
  "cells": [
    {
      "cell_type": "markdown",
      "metadata": {
        "id": "view-in-github",
        "colab_type": "text"
      },
      "source": [
        "<a href=\"https://colab.research.google.com/github/SantosRAC/python4gbmeeters2022/blob/main/Tutorial_JupyterNotebook_Colab.ipynb\" target=\"_parent\"><img src=\"https://colab.research.google.com/assets/colab-badge.svg\" alt=\"Open In Colab\"/></a>"
      ]
    },
    {
      "cell_type": "markdown",
      "source": [
        "# Introdução ao uso do caderno do Google Colab\n",
        "\n",
        "**Instrutores e monitores**:\n",
        " * Dr. Renato Augusto Corrêa dos Santos\n",
        " * Graduando Felipe Vaz Peres (UFSCar)\n",
        "\n",
        "**Evento**: Introdução à lógica de programação para biocientistas em Python - GBMeeting 2022\n",
        "\n",
        "**Vantagens**\n",
        " * Entrega as necessidades de programação\n",
        " * Não requer download ou instalação, diminuindo a necessidade de suporte\n",
        " * De fácil uso\n",
        " * Suporte conteúdo diverso e interativo"
      ],
      "metadata": {
        "id": "ZZQUI6tLrG07"
      }
    },
    {
      "cell_type": "markdown",
      "source": [
        "## Jupyter notebook\n",
        "\n",
        "JuPyTer: `Julia, Python, and R`\n",
        "\n",
        " * Aplicações web que rodam em um navegador\n",
        " * Permitem:\n",
        "  * Compartilhamento de códigos\n",
        "  * Análise de dados\n",
        "  * Visualização (estáticas ou interativas)\n",
        " * É possível adicionar também:\n",
        "  * Imagens\n",
        "  * Vídeos (como do Youtube)\n",
        "  * Links gerais para a web\n",
        "\n",
        "### Componentes\n",
        "\n",
        " * Narrativo: Células de texto usando a sintaxe Markdown\n",
        " * Interativo: Células com execução de códigos (por exemplo, Python)\n",
        "\n",
        "### Formas de acessar\n",
        "\n",
        " * Distribuição Anaconda, uma plataforma para Data Science (Python e R)\n",
        " * JupyterHub: desenvolvido para trabalho em grupos de usuários e acesso aos cadernos digitais na nuvem\n",
        "\n",
        "### Serviços associados aos cadernos Jupyter\n",
        "\n",
        " * **Jupyter notebook**\n",
        " * **JupyterLab**: ambiente de desenvolvimento online interativo, com acesso aos cadernos, dados, editor de texto e terminais no mesmo ambiente\n",
        " * **JupyterHub**: ambiente que permite que grupos de usuários trabalhem com os cadernos de forma colaborativa\n",
        "\n",
        "### Extensões dos cadernos\n",
        "\n",
        "Algumas das funcionalidades adicionais:\n",
        "\n",
        " * Correção de escrita\n",
        " * Tarefas de correção de exercícios\n",
        " * Numeração automática em equações\n",
        " * Muitas outras funcionalidades [...]\n",
        "\n",
        "\n",
        "<code>\n",
        "pip install jupyter_contrib_nbextensions\n",
        "jupyter contrib nbextension install—user\n",
        "pip install jupyter_nbextensions_configurator\n",
        "jupyter nbextensions_configurator enable–user\n",
        "</code>\n"
      ],
      "metadata": {
        "id": "lwLZS17XxWG4"
      }
    },
    {
      "cell_type": "markdown",
      "source": [
        "## Colocando em prática\n",
        "\n",
        "### Tipos de células\n",
        "\n",
        "Os cadernos têm dois tipos principais de células:\n",
        " * Markdown: textos, imagens, equações, outros recursos\n",
        " * Código: entrada de códigos que serão executados, em uma linguagem determinada (no nosso caso, trabalharemos com Python)\n",
        "\n",
        "### Execução de célula de código\n",
        "\n",
        " * Colocar código a ser executado\n",
        " * Com a célula selecionada, usar `SHIFT` + `ENTER`\n",
        "\n",
        "Alternativamente, `CTRL` + `ENTER` pode ser executado; neste caso, em vez de mover o cursor para a próxima célula, o usuário continuará com a célula atual selecionada. Na barra de menu existe a opção `Tools > Keyboard Shortcuts` que permite ver todos os outros atalhos de teclado para execuções no caderno."
      ],
      "metadata": {
        "id": "bEpJX6C_ykU7"
      }
    },
    {
      "cell_type": "code",
      "execution_count": null,
      "metadata": {
        "id": "34cz0hETrDR-"
      },
      "outputs": [],
      "source": [
        "numero = 4"
      ]
    },
    {
      "cell_type": "markdown",
      "source": [
        "Se o resultado da execução do código tiver um retorno, ele aparecerá imeadiatamente após a célula executada:"
      ],
      "metadata": {
        "id": "pR8UabDF4a8Z"
      }
    },
    {
      "cell_type": "code",
      "source": [
        "numero"
      ],
      "metadata": {
        "colab": {
          "base_uri": "https://localhost:8080/"
        },
        "id": "2JS_8GCE3QOF",
        "outputId": "d695dd92-a03e-4d16-f179-9194c8799a7b"
      },
      "execution_count": null,
      "outputs": [
        {
          "output_type": "execute_result",
          "data": {
            "text/plain": [
              "4"
            ]
          },
          "metadata": {},
          "execution_count": 2
        }
      ]
    },
    {
      "cell_type": "markdown",
      "source": [
        "### Ainda sobre a execução de células no caderno\n",
        "\n",
        "Se o usuário preferir, ele pode também executar todas as células de uma vez (até agora construímos X células).\n",
        "\n",
        " * `Runtime > Run all`\n",
        " * `Restart runtime`\n",
        " * `Restart and run all`"
      ],
      "metadata": {
        "id": "NHkuvemkrMVs"
      }
    },
    {
      "cell_type": "markdown",
      "source": [
        "### Estilos de células\n",
        "\n",
        "As células de texto do Jupyter utilizam por padrão a linguagem Markdown. Há alguns guias na internet sobre como colocar elementos usando a [sintaxe de Markdown](https://www.markdownguide.org/basic-syntax/), como tabelas, figuras, links etc.\n",
        "\n",
        "Quando executadas, as células de texto transformam o o conteúdo de Markdown em HTML, para apresentação adequada no navegador."
      ],
      "metadata": {
        "id": "mYnHxRC25WYy"
      }
    },
    {
      "cell_type": "markdown",
      "source": [
        "**Fórmulas em LaTeX**:\n",
        "\n",
        "Além dos elementos de Markdown (para aqueles com um pezinho nas ciências exatas) é possível também apresentar fórmulas. A partir de abril/2021, podemos colocar estas fórmulas sem a necessidade de importar qualquer biblioteca, usando a sintaxe:\n",
        "\n",
        "```\n",
        "$\\sigma = \\sqrt{\\frac{1}{N}\\sum_{i = 1}^{N} (x_i-\\mu)^2}$\n",
        "```\n",
        "\n",
        "Ficando assim:\n",
        "\n",
        "$\\sigma = \\sqrt{\\frac{1}{N}\\sum_{i = 1}^{N} (x_i-\\mu)^2}$\n",
        "\n",
        "Não entraremos em muitos detalhes sobre fórmulas ou sobre a sintaxe de LaTeX neste curso."
      ],
      "metadata": {
        "id": "EYXoy7YX7Jbe"
      }
    },
    {
      "cell_type": "markdown",
      "source": [
        "### Comandos mágicos\n",
        "\n",
        "Alguns comandos mágicos são usados no Jupyter notebook (IPython) para alterar o comportamento padrão.\n",
        "\n",
        "Não entraremos em detalhes aqui, mas é possível, por exemplo, usar uma extensão para uso de SQL e também o uso de um gerenciador de bancos de dados (como MySQL).\n",
        "\n",
        "`%lsmagic`\n",
        "\n",
        "`%magic`"
      ],
      "metadata": {
        "id": "_qdAqkBDjL89"
      }
    },
    {
      "cell_type": "code",
      "source": [
        "%lsmagic"
      ],
      "metadata": {
        "colab": {
          "base_uri": "https://localhost:8080/",
          "height": 159
        },
        "id": "n8TlAfQRneby",
        "outputId": "7b8e2040-cd10-465e-bbf7-afcea9f6bb6e"
      },
      "execution_count": null,
      "outputs": [
        {
          "output_type": "execute_result",
          "data": {
            "application/json": {
              "cell": {
                "prun": "ExecutionMagics",
                "file": "Other",
                "!": "OSMagics",
                "capture": "ExecutionMagics",
                "timeit": "ExecutionMagics",
                "script": "ScriptMagics",
                "pypy": "Other",
                "system": "OSMagics",
                "perl": "Other",
                "html": "DisplayMagics",
                "bash": "Other",
                "shell": "Other",
                "HTML": "Other",
                "python": "Other",
                "SVG": "Other",
                "javascript": "DisplayMagics",
                "bigquery": "Other",
                "js": "DisplayMagics",
                "writefile": "OSMagics",
                "ruby": "Other",
                "python3": "Other",
                "python2": "Other",
                "latex": "DisplayMagics",
                "sx": "OSMagics",
                "svg": "DisplayMagics",
                "sh": "Other",
                "time": "ExecutionMagics",
                "debug": "ExecutionMagics"
              },
              "line": {
                "psource": "NamespaceMagics",
                "logstart": "LoggingMagics",
                "popd": "OSMagics",
                "tensorflow_version": "Other",
                "loadpy": "CodeMagics",
                "colors": "BasicMagics",
                "who_ls": "NamespaceMagics",
                "lf": "Other",
                "ll": "Other",
                "pprint": "BasicMagics",
                "lk": "Other",
                "ls": "Other",
                "save": "CodeMagics",
                "tb": "ExecutionMagics",
                "lx": "Other",
                "pylab": "PylabMagics",
                "killbgscripts": "ScriptMagics",
                "quickref": "BasicMagics",
                "magic": "BasicMagics",
                "dhist": "OSMagics",
                "edit": "KernelMagics",
                "logstop": "LoggingMagics",
                "gui": "BasicMagics",
                "prun": "ExecutionMagics",
                "debug": "ExecutionMagics",
                "page": "BasicMagics",
                "logstate": "LoggingMagics",
                "ed": "Other",
                "pushd": "OSMagics",
                "timeit": "ExecutionMagics",
                "set_env": "OSMagics",
                "rehashx": "OSMagics",
                "hist": "Other",
                "qtconsole": "KernelMagics",
                "rm": "Other",
                "dirs": "OSMagics",
                "run": "ExecutionMagics",
                "reset_selective": "NamespaceMagics",
                "pinfo2": "NamespaceMagics",
                "matplotlib": "PylabMagics",
                "unload_ext": "ExtensionMagics",
                "doctest_mode": "BasicMagics",
                "logoff": "LoggingMagics",
                "reload_ext": "ExtensionMagics",
                "pdb": "ExecutionMagics",
                "load": "CodeMagics",
                "lsmagic": "BasicMagics",
                "autosave": "KernelMagics",
                "cd": "OSMagics",
                "pastebin": "CodeMagics",
                "alias_magic": "BasicMagics",
                "cp": "Other",
                "autocall": "AutoMagics",
                "ldir": "Other",
                "bookmark": "OSMagics",
                "connect_info": "KernelMagics",
                "mkdir": "Other",
                "system": "OSMagics",
                "whos": "NamespaceMagics",
                "rmdir": "Other",
                "automagic": "AutoMagics",
                "store": "StoreMagics",
                "more": "KernelMagics",
                "shell": "Other",
                "pdef": "NamespaceMagics",
                "precision": "BasicMagics",
                "pinfo": "NamespaceMagics",
                "pwd": "OSMagics",
                "psearch": "NamespaceMagics",
                "reset": "NamespaceMagics",
                "recall": "HistoryMagics",
                "xdel": "NamespaceMagics",
                "xmode": "BasicMagics",
                "cat": "Other",
                "mv": "Other",
                "rerun": "HistoryMagics",
                "logon": "LoggingMagics",
                "history": "HistoryMagics",
                "pycat": "OSMagics",
                "pip": "Other",
                "unalias": "OSMagics",
                "env": "OSMagics",
                "load_ext": "ExtensionMagics",
                "config": "ConfigMagics",
                "profile": "BasicMagics",
                "pfile": "NamespaceMagics",
                "less": "KernelMagics",
                "who": "NamespaceMagics",
                "notebook": "BasicMagics",
                "man": "KernelMagics",
                "sx": "OSMagics",
                "macro": "ExecutionMagics",
                "clear": "KernelMagics",
                "alias": "OSMagics",
                "time": "ExecutionMagics",
                "sc": "OSMagics",
                "rep": "Other",
                "pdoc": "NamespaceMagics"
              }
            },
            "text/plain": [
              "Available line magics:\n",
              "%alias  %alias_magic  %autocall  %automagic  %autosave  %bookmark  %cat  %cd  %clear  %colors  %config  %connect_info  %cp  %debug  %dhist  %dirs  %doctest_mode  %ed  %edit  %env  %gui  %hist  %history  %killbgscripts  %ldir  %less  %lf  %lk  %ll  %load  %load_ext  %loadpy  %logoff  %logon  %logstart  %logstate  %logstop  %ls  %lsmagic  %lx  %macro  %magic  %man  %matplotlib  %mkdir  %more  %mv  %notebook  %page  %pastebin  %pdb  %pdef  %pdoc  %pfile  %pinfo  %pinfo2  %pip  %popd  %pprint  %precision  %profile  %prun  %psearch  %psource  %pushd  %pwd  %pycat  %pylab  %qtconsole  %quickref  %recall  %rehashx  %reload_ext  %rep  %rerun  %reset  %reset_selective  %rm  %rmdir  %run  %save  %sc  %set_env  %shell  %store  %sx  %system  %tb  %tensorflow_version  %time  %timeit  %unalias  %unload_ext  %who  %who_ls  %whos  %xdel  %xmode\n",
              "\n",
              "Available cell magics:\n",
              "%%!  %%HTML  %%SVG  %%bash  %%bigquery  %%capture  %%debug  %%file  %%html  %%javascript  %%js  %%latex  %%perl  %%prun  %%pypy  %%python  %%python2  %%python3  %%ruby  %%script  %%sh  %%shell  %%svg  %%sx  %%system  %%time  %%timeit  %%writefile\n",
              "\n",
              "Automagic is ON, % prefix IS NOT needed for line magics."
            ]
          },
          "metadata": {},
          "execution_count": 1
        }
      ]
    },
    {
      "cell_type": "code",
      "source": [
        "%magic"
      ],
      "metadata": {
        "id": "aGjXadJDniTR"
      },
      "execution_count": null,
      "outputs": []
    },
    {
      "cell_type": "markdown",
      "source": [
        "### Widgets\n",
        "\n",
        "Não veremos no curso."
      ],
      "metadata": {
        "id": "yk3bH4EUla4l"
      }
    },
    {
      "cell_type": "markdown",
      "source": [
        "### Reprodutibilidade e colaboração no Jupyter notebook\n",
        "\n",
        " * Compartilhamento de códigos\n",
        " * Inclusão de documentação associada ao código\n",
        " * Caderno Jupyter tem sido usado no ensino: visualização interativa facilita o aprendizado\n",
        "\n",
        " ### Compartilhamento dos cadernos\n",
        "\n",
        " * Normalmente, apresenta o formato `ipynb`\n",
        " * No Google Colab, basta acessar `File > Download > .ipynb`"
      ],
      "metadata": {
        "id": "SzyJNEMmpDwL"
      }
    },
    {
      "cell_type": "markdown",
      "source": [
        "### nbgrader - correção automática de exercícios\n",
        "\n",
        "Não vamos ver no curso, mas é uma ferramenta interessante.\n",
        "Ela permite a correção automática de exercícios - tem bastante utilidade para o professor.\n"
      ],
      "metadata": {
        "id": "owloKNS1rrtu"
      }
    },
    {
      "cell_type": "markdown",
      "source": [
        "Além do presente material, que traz informações apresentadas em Davies et al. (2020), sugiro que os participantes também acessem diretamente a página do Google Colaboratory. Durante o curso, nós usaremos os cadernos na nuvem, usando a plataforma do Google (e não cadernos do Jupyter instalados localmente)!\n",
        "\n",
        "\n",
        " * [Caderno](https://colab.research.google.com/notebooks/basic_features_overview.ipynb) com características gerais do Google Colab\n",
        " * [Caderno](https://colab.research.google.com/notebooks/markdown_guide.ipynb) com um guia de Markdown e sua sintaxe\n"
      ],
      "metadata": {
        "id": "ueTfOR0HzDCv"
      }
    },
    {
      "cell_type": "markdown",
      "source": [
        "## Referências\n",
        "\n",
        "[Davies, A.](https://journals.plos.org/ploscompbiol/article?id=10.1371/journal.pcbi.1008326), Hooley, F., Causey-Freeman, P., Eleftheriou, I., & Moulton, G. (2020). Using interactive digital notebooks for bioscience and informatics education. PLoS computational biology, 16(11), e1008326."
      ],
      "metadata": {
        "id": "8fyPqgmGv0rn"
      }
    }
  ]
}