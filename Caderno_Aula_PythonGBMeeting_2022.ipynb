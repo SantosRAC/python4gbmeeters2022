{
  "nbformat": 4,
  "nbformat_minor": 0,
  "metadata": {
    "colab": {
      "name": "Caderno_Aula_PythonGBMeeting_2022.ipynb",
      "provenance": [],
      "collapsed_sections": [
        "2iPM5BXcvxOa",
        "E9LSeKy9ufK5",
        "P5B-A5ljduUS",
        "Wt4xP7o86gXp",
        "InWbcB0Nrx_e",
        "705hEvyHtC-j",
        "tYLilEhMsYAw",
        "UOpLnwIEojn2",
        "hzlvfDXbobMK",
        "spLjb84akeO0",
        "7KsO-kuIlILr",
        "K0s3vpd_m_jq",
        "RlCOSFnxnG6_",
        "WphssWh4qg8R",
        "q20mrP9_1tn3",
        "QRO5zd4B3hB3",
        "tO6_y1Ix4N1q",
        "hwEHRjVU7qVg"
      ],
      "authorship_tag": "ABX9TyOinvTAyJnB5+FtBYES/43p",
      "include_colab_link": true
    },
    "kernelspec": {
      "name": "python3",
      "display_name": "Python 3"
    },
    "language_info": {
      "name": "python"
    }
  },
  "cells": [
    {
      "cell_type": "markdown",
      "metadata": {
        "id": "view-in-github",
        "colab_type": "text"
      },
      "source": [
        "<a href=\"https://colab.research.google.com/github/SantosRAC/python4gbmeeters2022/blob/main/Caderno_Aula_PythonGBMeeting_2022.ipynb\" target=\"_parent\"><img src=\"https://colab.research.google.com/assets/colab-badge.svg\" alt=\"Open In Colab\"/></a>"
      ]
    },
    {
      "cell_type": "markdown",
      "source": [
        "# Introdução à linguagem Python\n",
        "\n",
        "**Responsável**:\n",
        " * Dr. Renato Augusto Corrêa dos Santos\n",
        "\n",
        "**Evento**:\n",
        "\n",
        "Introdução à lógica de programação para biocientistas em Python - GBMeeting 2022"
      ],
      "metadata": {
        "id": "lDJcNiqIaDUd"
      }
    },
    {
      "cell_type": "markdown",
      "source": [
        "# Tópicos\n",
        "\n",
        " * Variáveis, nomeação de variáveis e boas práticas\n",
        " * Palavras reservadas\n",
        " * Função print() e outras funções nativas (input?)\n",
        " * Ajuda em Python\n",
        " * Mutabilidade e tipagem dinâmica (de forma bem superficial)\n",
        " * PEP8 - boas práticas desde o início!\n",
        " * Comentários em Python\n",
        " * Operações numéricas\n",
        " * Ordem de operações / precedência\n",
        " * Conversão de tipos\n",
        " * Boolean e valores True/False\n",
        " * Operadores de comparação (LÓGICA DE PROGRAMAÇÃO)\n",
        " * Estruturas de condicional\n",
        " * Operadores lógicos (LÓGICA DE PROGRAMAÇÃO)\n",
        " * Funções aninhadas\n",
        " * Strings\n",
        " * Sequências (listas, tuplas e ranges)\n",
        " * Listas (vamos olhar particularmente para listas neste curso)\n",
        " * Operações com listas\n",
        " * Dicionários\n",
        " * Métodos e funções com dicionários\n",
        " * Funções\n",
        " * Bibliotecas, pacotes e módulos\n",
        "\n",
        "\n",
        "\n",
        "\n"
      ],
      "metadata": {
        "id": "kTXvEIo8aCM6"
      }
    },
    {
      "cell_type": "markdown",
      "source": [
        "# Atividade - Dia 1"
      ],
      "metadata": {
        "id": "ZyNs4h7xj932"
      }
    },
    {
      "cell_type": "code",
      "execution_count": null,
      "metadata": {
        "id": "hQUKPFpUXfia"
      },
      "outputs": [],
      "source": [
        ""
      ]
    },
    {
      "cell_type": "markdown",
      "source": [
        "## Python\n",
        "\n",
        " * Guido van Rossum, anos 1980\n",
        " * Monty Pythons Flying Circus\n",
        "\n",
        "### Vantagens\n",
        "\n",
        " * Simplficidade e flexibilidade\n",
        " * Alto nível de abstração como linguagem de alto nível, comparada com outras linguagens similares\n",
        " * Interoperabilidade (Sistemas Operacionais)\n",
        " * Há alta disponibilidade de bibliotecas que permitem estender as funcionalidades nativas da linguagem\n",
        "\n",
        "### Versões\n",
        "\n",
        " * Python 2 (2000)\n",
        " * Python 3 (2008 - hoje)\n",
        "\n",
        "Neste curso introdutório usaremos Python 3\n",
        "\n",
        "### Paradigmas de programação\n",
        "\n",
        "Linguagens de programação podem apresentar diferentes paradigmas.\n",
        "Não entraremos em detalhes em relação a isso, mas existem pelo menos quatro paradigmas:\n",
        " * Programação procedural:\n",
        " * Programação declarativa:\n",
        " * Programação orientada a objetos:\n",
        " * Programação funcional: \n",
        "\n",
        "A linguagem Python é considerada híbrida, já que com ela é possível aplicar um ou mais dentre estes diferentes paradigmas."
      ],
      "metadata": {
        "id": "rBWM5bou6Djc"
      }
    },
    {
      "cell_type": "markdown",
      "source": [
        "Um exemplo de mudança em Python 3 em relação à versão 2:"
      ],
      "metadata": {
        "id": "4eqJeozG7mxv"
      }
    },
    {
      "cell_type": "code",
      "source": [
        "print(\"Eu tenho DNA!\")"
      ],
      "metadata": {
        "colab": {
          "base_uri": "https://localhost:8080/"
        },
        "id": "ur4y4EE06Dxa",
        "outputId": "11f35114-8c62-42e2-9fb5-a2abe611f2f6"
      },
      "execution_count": null,
      "outputs": [
        {
          "output_type": "stream",
          "name": "stdout",
          "text": [
            "Eu tenho DNA!\n"
          ]
        }
      ]
    },
    {
      "cell_type": "code",
      "source": [
        "print \"Eu tenho DNA!\""
      ],
      "metadata": {
        "colab": {
          "base_uri": "https://localhost:8080/",
          "height": 130
        },
        "id": "opkJIU3h7oJv",
        "outputId": "5fda99e4-5c40-4e3c-cee0-1df3fa20c7d9"
      },
      "execution_count": null,
      "outputs": [
        {
          "output_type": "error",
          "ename": "SyntaxError",
          "evalue": "ignored",
          "traceback": [
            "\u001b[0;36m  File \u001b[0;32m\"<ipython-input-3-cf1c71028265>\"\u001b[0;36m, line \u001b[0;32m1\u001b[0m\n\u001b[0;31m    print \"Eu tenho DNA!\"\u001b[0m\n\u001b[0m                        ^\u001b[0m\n\u001b[0;31mSyntaxError\u001b[0m\u001b[0;31m:\u001b[0m Missing parentheses in call to 'print'. Did you mean print(\"Eu tenho DNA!\")?\n"
          ]
        }
      ]
    },
    {
      "cell_type": "markdown",
      "source": [
        "## Variáveis\n",
        "\n",
        "Faz referência a objetos na memória.\n",
        "\n",
        "Estes objetos podem ser de diferentes tipos, como:\n",
        " * Números (int, float, complex)\n",
        " * Cadeias de caracteres (\"strings\")\n",
        " * Valores boleanos (verdadeiro e falso)\n",
        " * Outros ...\n",
        "\n",
        "Lembre-se que variáveis apresentam:\n",
        " * Valor\n",
        " * Tipo\n"
      ],
      "metadata": {
        "id": "az2F_GPoc_qZ"
      }
    },
    {
      "cell_type": "code",
      "source": [
        "sequencia = \"ATCG\""
      ],
      "metadata": {
        "id": "dBkjjjz9A6Gr"
      },
      "execution_count": null,
      "outputs": []
    },
    {
      "cell_type": "code",
      "source": [
        "numero_sequencia = 1"
      ],
      "metadata": {
        "id": "d6f4gj4Caezu"
      },
      "execution_count": null,
      "outputs": []
    },
    {
      "cell_type": "markdown",
      "source": [
        "### Regras para nomeação de variáveis\n",
        "\n",
        " * Devem iniciar com letras ou underlines\n",
        " * Isso significa que não é possível iniciar com números"
      ],
      "metadata": {
        "id": "Nh1LERXka8cu"
      }
    },
    {
      "cell_type": "code",
      "source": [
        "1sequencia = \"ATCG\""
      ],
      "metadata": {
        "id": "db7JMcmaa7Mc"
      },
      "execution_count": null,
      "outputs": []
    },
    {
      "cell_type": "code",
      "source": [
        "_sequencia = \"ATCG\""
      ],
      "metadata": {
        "id": "Ss3cseAvbnS_"
      },
      "execution_count": null,
      "outputs": []
    },
    {
      "cell_type": "markdown",
      "source": [
        "### PEP8\n",
        "\n",
        "O PEP8 é um documento muito importante que determina boas práticas de programação em Python. Entre diversas outras convenções, o PEP8 apresenta regras para determinar nomes às variáveis."
      ],
      "metadata": {
        "id": "hGGsCQtSbQQy"
      }
    },
    {
      "cell_type": "code",
      "source": [
        "# Correto\n",
        "numero_sequencia = 1"
      ],
      "metadata": {
        "id": "pfBhJyvfbde8"
      },
      "execution_count": null,
      "outputs": []
    },
    {
      "cell_type": "code",
      "source": [
        "# Incorreto\n",
        "numeroSequencia = 1"
      ],
      "metadata": {
        "id": "-LT-v62jbhaq"
      },
      "execution_count": null,
      "outputs": []
    },
    {
      "cell_type": "code",
      "source": [
        "# Incorreto (funciona, mas nada informativo)\n",
        "aJJAUJAJAHAHJA = 1"
      ],
      "metadata": {
        "id": "k29alyOpdo9f"
      },
      "execution_count": null,
      "outputs": []
    },
    {
      "cell_type": "code",
      "source": [
        "# Funciona, mas é considerado incorreto de acordo com as boas práticas (PEP8)\n",
        "NUMEROSEQUENCIA = 1"
      ],
      "metadata": {
        "id": "CU0kSGAadtTF"
      },
      "execution_count": null,
      "outputs": []
    },
    {
      "cell_type": "markdown",
      "source": [
        "### NaoAprofundar: Funções (print, input)\n",
        "\n",
        "Funções consistem em atividades definidas antes de ser uso e é desenvolvida para evitar que os programadores precisem refazer códigos ou atividades mais de uma vez no nosso programa. Vamos olhar para funções mais adiante, se tivermos tempo."
      ],
      "metadata": {
        "id": "m0FYBPFijAkM"
      }
    },
    {
      "cell_type": "markdown",
      "source": [
        "A função `print()` é nativa de Python e usada para enviar dados para a tela do computador. No caso do Google Colab, os dados aparecem no resultado da execução da célula.\n",
        "\n",
        "Assim como a maioria (?) das funções, ela recebe `argumentos` (vejam que a terminologia é importante, já que no momento da definição de uma função damos o nome aos elementos de `parâmetros`)."
      ],
      "metadata": {
        "id": "03N3plolkm6X"
      }
    },
    {
      "cell_type": "code",
      "source": [
        "print(\"Eu tenho DNA!\")"
      ],
      "metadata": {
        "colab": {
          "base_uri": "https://localhost:8080/"
        },
        "id": "Yg6k0GGfjAvX",
        "outputId": "cbdb8372-6443-49ad-cdb7-dce5b3434d9b"
      },
      "execution_count": null,
      "outputs": [
        {
          "output_type": "stream",
          "name": "stdout",
          "text": [
            "Eu tenho DNA!\n"
          ]
        }
      ]
    },
    {
      "cell_type": "code",
      "source": [
        "type(print)"
      ],
      "metadata": {
        "colab": {
          "base_uri": "https://localhost:8080/"
        },
        "id": "LoiF3uR8oRSZ",
        "outputId": "1cae9b4f-aac9-4037-eec5-8a819383850d"
      },
      "execution_count": null,
      "outputs": [
        {
          "output_type": "execute_result",
          "data": {
            "text/plain": [
              "builtin_function_or_method"
            ]
          },
          "metadata": {},
          "execution_count": 8
        }
      ]
    },
    {
      "cell_type": "markdown",
      "source": [
        "A função help(), se usada sem nenhum argumento, retorna um prompt de comando que permite ao usuário incluir nomes de funções, módulos, etc"
      ],
      "metadata": {
        "id": "M-fB4FW-lH31"
      }
    },
    {
      "cell_type": "code",
      "source": [
        "help()"
      ],
      "metadata": {
        "colab": {
          "base_uri": "https://localhost:8080/"
        },
        "id": "MqmSfiPflFpt",
        "outputId": "d103692e-0ace-4a02-8a0d-3d2dc5a4b93e"
      },
      "execution_count": null,
      "outputs": [
        {
          "output_type": "stream",
          "name": "stdout",
          "text": [
            "\n",
            "Welcome to Python 3.7's help utility!\n",
            "\n",
            "If this is your first time using Python, you should definitely check out\n",
            "the tutorial on the Internet at https://docs.python.org/3.7/tutorial/.\n",
            "\n",
            "Enter the name of any module, keyword, or topic to get help on writing\n",
            "Python programs and using Python modules.  To quit this help utility and\n",
            "return to the interpreter, just type \"quit\".\n",
            "\n",
            "To get a list of available modules, keywords, symbols, or topics, type\n",
            "\"modules\", \"keywords\", \"symbols\", or \"topics\".  Each module also comes\n",
            "with a one-line summary of what it does; to list the modules whose name\n",
            "or summary contain a given string such as \"spam\", type \"modules spam\".\n",
            "\n",
            "help> print\n",
            "Help on built-in function print in module builtins:\n",
            "\n",
            "print(...)\n",
            "    print(value, ..., sep=' ', end='\\n', file=sys.stdout, flush=False)\n",
            "    \n",
            "    Prints the values to a stream, or to sys.stdout by default.\n",
            "    Optional keyword arguments:\n",
            "    file:  a file-like object (stream); defaults to the current sys.stdout.\n",
            "    sep:   string inserted between values, default a space.\n",
            "    end:   string appended after the last value, default a newline.\n",
            "    flush: whether to forcibly flush the stream.\n",
            "\n",
            "help> quit()\n",
            "No Python documentation found for 'quit()'.\n",
            "Use help() to get the interactive help utility.\n",
            "Use help(str) for help on the str class.\n",
            "\n",
            "help> exit\n",
            "No Python documentation found for 'exit'.\n",
            "Use help() to get the interactive help utility.\n",
            "Use help(str) for help on the str class.\n",
            "\n",
            "help> quit\n",
            "\n",
            "You are now leaving help and returning to the Python interpreter.\n",
            "If you want to ask for help on a particular object directly from the\n",
            "interpreter, you can type \"help(object)\".  Executing \"help('string')\"\n",
            "has the same effect as typing a particular string at the help> prompt.\n"
          ]
        }
      ]
    },
    {
      "cell_type": "code",
      "source": [
        "help(print)"
      ],
      "metadata": {
        "colab": {
          "base_uri": "https://localhost:8080/"
        },
        "id": "sw-MRUdPnr14",
        "outputId": "bedd7cbf-fea7-4d95-db52-55cfa4b00726"
      },
      "execution_count": null,
      "outputs": [
        {
          "output_type": "stream",
          "name": "stdout",
          "text": [
            "Help on built-in function print in module builtins:\n",
            "\n",
            "print(...)\n",
            "    print(value, ..., sep=' ', end='\\n', file=sys.stdout, flush=False)\n",
            "    \n",
            "    Prints the values to a stream, or to sys.stdout by default.\n",
            "    Optional keyword arguments:\n",
            "    file:  a file-like object (stream); defaults to the current sys.stdout.\n",
            "    sep:   string inserted between values, default a space.\n",
            "    end:   string appended after the last value, default a newline.\n",
            "    flush: whether to forcibly flush the stream.\n",
            "\n"
          ]
        }
      ]
    },
    {
      "cell_type": "code",
      "source": [
        "help(print())"
      ],
      "metadata": {
        "colab": {
          "base_uri": "https://localhost:8080/"
        },
        "id": "cSZFs6I2n1jv",
        "outputId": "5501d4db-4c22-48d2-fb05-1b6468f687c3"
      },
      "execution_count": null,
      "outputs": [
        {
          "output_type": "stream",
          "name": "stdout",
          "text": [
            "\n",
            "Help on NoneType object:\n",
            "\n",
            "class NoneType(object)\n",
            " |  Methods defined here:\n",
            " |  \n",
            " |  __bool__(self, /)\n",
            " |      self != 0\n",
            " |  \n",
            " |  __repr__(self, /)\n",
            " |      Return repr(self).\n",
            " |  \n",
            " |  ----------------------------------------------------------------------\n",
            " |  Static methods defined here:\n",
            " |  \n",
            " |  __new__(*args, **kwargs) from builtins.type\n",
            " |      Create and return a new object.  See help(type) for accurate signature.\n",
            "\n"
          ]
        }
      ]
    },
    {
      "cell_type": "markdown",
      "source": [
        "**Atenção!!**\n",
        "\n",
        "Há dois conjuntos de palavras da linguagem que não é possível ou não é conveniente usar:\n",
        " \n",
        " * Nomes de funções nativas ou importadas de bibliotecas\n",
        " * Palavras reservadas da linguagem (em inglês, as `keywords`)"
      ],
      "metadata": {
        "id": "BEPgVgk3e418"
      }
    },
    {
      "cell_type": "code",
      "source": [
        "print = \"Renato Santos\""
      ],
      "metadata": {
        "id": "oGyvnoL8i7rY"
      },
      "execution_count": null,
      "outputs": []
    },
    {
      "cell_type": "code",
      "source": [
        "print(print)"
      ],
      "metadata": {
        "colab": {
          "base_uri": "https://localhost:8080/",
          "height": 165
        },
        "id": "1UK1hDRwmM5T",
        "outputId": "ed37d361-2778-4a9d-a1a7-c3122cc06bcd"
      },
      "execution_count": null,
      "outputs": [
        {
          "output_type": "error",
          "ename": "TypeError",
          "evalue": "ignored",
          "traceback": [
            "\u001b[0;31m---------------------------------------------------------------------------\u001b[0m",
            "\u001b[0;31mTypeError\u001b[0m                                 Traceback (most recent call last)",
            "\u001b[0;32m<ipython-input-14-2223c92d0779>\u001b[0m in \u001b[0;36m<module>\u001b[0;34m()\u001b[0m\n\u001b[0;32m----> 1\u001b[0;31m \u001b[0mprint\u001b[0m\u001b[0;34m(\u001b[0m\u001b[0mprint\u001b[0m\u001b[0;34m)\u001b[0m\u001b[0;34m\u001b[0m\u001b[0;34m\u001b[0m\u001b[0m\n\u001b[0m",
            "\u001b[0;31mTypeError\u001b[0m: 'str' object is not callable"
          ]
        }
      ]
    },
    {
      "cell_type": "markdown",
      "source": [
        "De acordo [com a internet](https://www.programiz.com/python-programming/keywords-identifier), Python 3.7 tem 33 palavras reservadas.\n",
        "\n",
        "Aliás, vamos ver qual versão do Python estamos usando:"
      ],
      "metadata": {
        "id": "VQ4ifhLqlkHn"
      }
    },
    {
      "cell_type": "code",
      "source": [
        "!python --version"
      ],
      "metadata": {
        "colab": {
          "base_uri": "https://localhost:8080/"
        },
        "id": "AqR04BPymH6o",
        "outputId": "37da81f4-8f93-484d-a15a-5dc66b4ef394"
      },
      "execution_count": null,
      "outputs": [
        {
          "output_type": "stream",
          "name": "stdout",
          "text": [
            "Python 3.7.12\n"
          ]
        }
      ]
    },
    {
      "cell_type": "code",
      "source": [
        "in = 2"
      ],
      "metadata": {
        "colab": {
          "base_uri": "https://localhost:8080/",
          "height": 130
        },
        "id": "lMxof_jrfYsf",
        "outputId": "4588c369-2571-4f53-c0da-c0c1fb417f38"
      },
      "execution_count": null,
      "outputs": [
        {
          "output_type": "error",
          "ename": "SyntaxError",
          "evalue": "ignored",
          "traceback": [
            "\u001b[0;36m  File \u001b[0;32m\"<ipython-input-2-9a624284b07b>\"\u001b[0;36m, line \u001b[0;32m1\u001b[0m\n\u001b[0;31m    in = 2\u001b[0m\n\u001b[0m     ^\u001b[0m\n\u001b[0;31mSyntaxError\u001b[0m\u001b[0;31m:\u001b[0m invalid syntax\n"
          ]
        }
      ]
    },
    {
      "cell_type": "code",
      "source": [
        "for = 2"
      ],
      "metadata": {
        "colab": {
          "base_uri": "https://localhost:8080/",
          "height": 130
        },
        "id": "rb1Cnnbofadt",
        "outputId": "36a5da30-6a16-4739-ce1d-30e81b2df40e"
      },
      "execution_count": null,
      "outputs": [
        {
          "output_type": "error",
          "ename": "SyntaxError",
          "evalue": "ignored",
          "traceback": [
            "\u001b[0;36m  File \u001b[0;32m\"<ipython-input-3-81f260bd2c61>\"\u001b[0;36m, line \u001b[0;32m1\u001b[0m\n\u001b[0;31m    for = 2\u001b[0m\n\u001b[0m        ^\u001b[0m\n\u001b[0;31mSyntaxError\u001b[0m\u001b[0;31m:\u001b[0m invalid syntax\n"
          ]
        }
      ]
    },
    {
      "cell_type": "markdown",
      "source": [
        "## Comentários\n",
        "\n",
        "Vocês devem ter percebido que comentários em códigos podem ser feitos usando `#`\n",
        "\n",
        "Comentários em Python são feitos de duas formas:\n",
        " * De uma linha: `#`\n",
        " * Múltiplas linhas\n",
        "\n",
        " Quando o comentário for `docstring`, usar `\"\"\"`."
      ],
      "metadata": {
        "id": "cCoNqgDbeRd3"
      }
    },
    {
      "cell_type": "markdown",
      "source": [
        "### NaoAprofundar: mutabilidade, tipagem dinâmica, definição de variáveis"
      ],
      "metadata": {
        "id": "4k1jJp2CoyHf"
      }
    },
    {
      "cell_type": "code",
      "source": [
        ""
      ],
      "metadata": {
        "id": "Ot4nWLcKA2fo"
      },
      "execution_count": null,
      "outputs": []
    },
    {
      "cell_type": "code",
      "source": [
        ""
      ],
      "metadata": {
        "id": "9UUO6krsoyQl"
      },
      "execution_count": null,
      "outputs": []
    },
    {
      "cell_type": "markdown",
      "source": [
        "### NaoAprofundar: docstring"
      ],
      "metadata": {
        "id": "z7UHH9n_ll2A"
      }
    },
    {
      "cell_type": "code",
      "source": [
        ""
      ],
      "metadata": {
        "id": "mGuR-C-GlmLw"
      },
      "execution_count": null,
      "outputs": []
    },
    {
      "cell_type": "markdown",
      "source": [
        "## Tipos de números\n",
        "\n",
        " * Inteiros\n",
        " * Float\n",
        " * Complexos"
      ],
      "metadata": {
        "id": "2iPM5BXcvxOa"
      }
    },
    {
      "cell_type": "markdown",
      "source": [
        "## Operações numéricas\n",
        "\n",
        " * Soma\n",
        " * Subtração\n",
        " * Multiplicação\n",
        " * Divisão\n",
        " * Potenciação\n",
        " * Resto\n",
        " * Divisão "
      ],
      "metadata": {
        "id": "AQ-ek9Q8e8rW"
      }
    },
    {
      "cell_type": "markdown",
      "source": [
        "Para trazer algum contexto biológico, vamos trabalhar com uma sequência de DNA:\n",
        "\"ATGGTGCCGATGCTATGGCTTACGGCCTACATGGCCGTTGCGGTGCTGACGGCAATCTTGCTCAATGTT\""
      ],
      "metadata": {
        "id": "VZOUrUngnCvn"
      }
    },
    {
      "cell_type": "code",
      "source": [
        "tamanho_seq = 69"
      ],
      "metadata": {
        "id": "x8AV1KXQe804"
      },
      "execution_count": null,
      "outputs": []
    },
    {
      "cell_type": "code",
      "source": [
        "tamanho_seq // 3"
      ],
      "metadata": {
        "colab": {
          "base_uri": "https://localhost:8080/"
        },
        "id": "mj2pv7d2_cm9",
        "outputId": "616f7561-4514-4700-dc43-6e0252174bf1"
      },
      "execution_count": null,
      "outputs": [
        {
          "output_type": "execute_result",
          "data": {
            "text/plain": [
              "23"
            ]
          },
          "metadata": {},
          "execution_count": 12
        }
      ]
    },
    {
      "cell_type": "markdown",
      "source": [
        "Nosso comprimento de sequência é um número inteiro. Vamos trabalhar um pouco com algumas operações com números inteiros"
      ],
      "metadata": {
        "id": "nQ7UWd4KmoY-"
      }
    },
    {
      "cell_type": "code",
      "source": [
        "# Soma\n",
        "69 + 3"
      ],
      "metadata": {
        "colab": {
          "base_uri": "https://localhost:8080/"
        },
        "id": "RcQ7WrB3mzWF",
        "outputId": "f6dbc247-25cb-4ba4-d36a-f6e268178998"
      },
      "execution_count": null,
      "outputs": [
        {
          "output_type": "execute_result",
          "data": {
            "text/plain": [
              "72"
            ]
          },
          "metadata": {},
          "execution_count": 1
        }
      ]
    },
    {
      "cell_type": "code",
      "source": [
        "# Subtração\n",
        "69 - 6"
      ],
      "metadata": {
        "colab": {
          "base_uri": "https://localhost:8080/"
        },
        "id": "Pa_ZlenInS2g",
        "outputId": "8b57ecdc-5b8f-45c0-948d-b73282744005"
      },
      "execution_count": null,
      "outputs": [
        {
          "output_type": "execute_result",
          "data": {
            "text/plain": [
              "63"
            ]
          },
          "metadata": {},
          "execution_count": 2
        }
      ]
    },
    {
      "cell_type": "code",
      "source": [
        "# Floor division\n",
        "69 / 3"
      ],
      "metadata": {
        "colab": {
          "base_uri": "https://localhost:8080/"
        },
        "id": "CXiivdcpnS-0",
        "outputId": "037c69d3-49b5-4186-ef30-c918b8e81e93"
      },
      "execution_count": null,
      "outputs": [
        {
          "output_type": "execute_result",
          "data": {
            "text/plain": [
              "23.0"
            ]
          },
          "metadata": {},
          "execution_count": 3
        }
      ]
    },
    {
      "cell_type": "code",
      "source": [
        "# Divisão inteira\n",
        "69 // 3"
      ],
      "metadata": {
        "colab": {
          "base_uri": "https://localhost:8080/"
        },
        "id": "GHmtILbWnTHP",
        "outputId": "f03256f1-eab2-45fb-e6be-5a5e69f22e6b"
      },
      "execution_count": null,
      "outputs": [
        {
          "output_type": "execute_result",
          "data": {
            "text/plain": [
              "23"
            ]
          },
          "metadata": {},
          "execution_count": 4
        }
      ]
    },
    {
      "cell_type": "code",
      "source": [
        "# Resto\n",
        "69 % 3"
      ],
      "metadata": {
        "colab": {
          "base_uri": "https://localhost:8080/"
        },
        "id": "EKim0zBTnTPZ",
        "outputId": "3f49cb79-09a7-4289-8168-22562f827b3c"
      },
      "execution_count": null,
      "outputs": [
        {
          "output_type": "execute_result",
          "data": {
            "text/plain": [
              "0"
            ]
          },
          "metadata": {},
          "execution_count": 5
        }
      ]
    },
    {
      "cell_type": "code",
      "source": [
        "69 % 2"
      ],
      "metadata": {
        "colab": {
          "base_uri": "https://localhost:8080/"
        },
        "id": "iLYgQTrRnTWL",
        "outputId": "6afdc69f-e6b4-4cf4-a34f-ea2026b168c2"
      },
      "execution_count": null,
      "outputs": [
        {
          "output_type": "execute_result",
          "data": {
            "text/plain": [
              "1"
            ]
          },
          "metadata": {},
          "execution_count": 6
        }
      ]
    },
    {
      "cell_type": "code",
      "source": [
        "69 // 2"
      ],
      "metadata": {
        "colab": {
          "base_uri": "https://localhost:8080/"
        },
        "id": "xqn8_bnLno4W",
        "outputId": "0fa5af95-e02e-4035-b80e-e0e2b8b86cfb"
      },
      "execution_count": null,
      "outputs": [
        {
          "output_type": "execute_result",
          "data": {
            "text/plain": [
              "34"
            ]
          },
          "metadata": {},
          "execution_count": 8
        }
      ]
    },
    {
      "cell_type": "code",
      "source": [
        "4 * 69"
      ],
      "metadata": {
        "colab": {
          "base_uri": "https://localhost:8080/"
        },
        "id": "DbAhETzln9eJ",
        "outputId": "1143b182-4f5a-4dc8-f9a5-7e1b4c6d0e0e"
      },
      "execution_count": null,
      "outputs": [
        {
          "output_type": "execute_result",
          "data": {
            "text/plain": [
              "276"
            ]
          },
          "metadata": {},
          "execution_count": 9
        }
      ]
    },
    {
      "cell_type": "code",
      "source": [
        "69 ** 2"
      ],
      "metadata": {
        "colab": {
          "base_uri": "https://localhost:8080/"
        },
        "id": "SyUrdbhen9n6",
        "outputId": "943ebcd1-d5ee-4733-f759-f4585d428a5c"
      },
      "execution_count": null,
      "outputs": [
        {
          "output_type": "execute_result",
          "data": {
            "text/plain": [
              "4761"
            ]
          },
          "metadata": {},
          "execution_count": 10
        }
      ]
    },
    {
      "cell_type": "markdown",
      "source": [
        "### NaoAprofundar: ordem das operações / precedência\n",
        "\n",
        "Na matemática, a ordem das operações [é a seguinte](https://pt.wikipedia.org/wiki/Ordem_de_opera%C3%A7%C3%B5es):\n",
        " * Factoriais\n",
        " * Cálculo de funções\n",
        " * Potências e raízes\n",
        " * Multiplicações e divisões\n",
        " * Adições e subtracções\n",
        "\n",
        " Em Python, funciona também como esperamos :-)\n",
        "\n",
        " 1. `**`\n",
        " 2. `*`, `/`, `//`, `%`\n",
        " 3. `+`, `-`"
      ],
      "metadata": {
        "id": "_VLQfEJHoFZf"
      }
    },
    {
      "cell_type": "code",
      "source": [
        "3 * 3 + 2 # O mesmo que (3 * 3) + 2"
      ],
      "metadata": {
        "colab": {
          "base_uri": "https://localhost:8080/"
        },
        "id": "b6-DhtjDvfrC",
        "outputId": "2d3c8508-636e-4ef2-cd4c-c933e0ab9d1e"
      },
      "execution_count": null,
      "outputs": [
        {
          "output_type": "execute_result",
          "data": {
            "text/plain": [
              "11"
            ]
          },
          "metadata": {},
          "execution_count": 11
        }
      ]
    },
    {
      "cell_type": "code",
      "source": [
        "(3 * 3) + 2"
      ],
      "metadata": {
        "colab": {
          "base_uri": "https://localhost:8080/"
        },
        "id": "zdeYYocVyPAI",
        "outputId": "ba6e25fa-d027-4916-c5a8-98bfd340e2da"
      },
      "execution_count": null,
      "outputs": [
        {
          "output_type": "execute_result",
          "data": {
            "text/plain": [
              "11"
            ]
          },
          "metadata": {},
          "execution_count": 14
        }
      ]
    },
    {
      "cell_type": "code",
      "source": [
        "3 * (3 + 2) # Mudando a ordem das operações com parênteses"
      ],
      "metadata": {
        "colab": {
          "base_uri": "https://localhost:8080/"
        },
        "id": "Y8weknjjyQWl",
        "outputId": "8ff7ec55-053b-4ac0-bd44-4aa28c8d909c"
      },
      "execution_count": null,
      "outputs": [
        {
          "output_type": "execute_result",
          "data": {
            "text/plain": [
              "15"
            ]
          },
          "metadata": {},
          "execution_count": 15
        }
      ]
    },
    {
      "cell_type": "code",
      "source": [
        "2 * 3 + 2 ** 3 # O mesmo que (2 * 3 + (2 ** 3))"
      ],
      "metadata": {
        "colab": {
          "base_uri": "https://localhost:8080/"
        },
        "id": "9M7vud41vjoq",
        "outputId": "916b7702-321c-46db-8bd3-bb416c22b187"
      },
      "execution_count": null,
      "outputs": [
        {
          "output_type": "execute_result",
          "data": {
            "text/plain": [
              "14"
            ]
          },
          "metadata": {},
          "execution_count": 12
        }
      ]
    },
    {
      "cell_type": "code",
      "source": [
        "(2 * 3 + (2 ** 3))"
      ],
      "metadata": {
        "colab": {
          "base_uri": "https://localhost:8080/"
        },
        "id": "NGY3edghyNgd",
        "outputId": "20fa6c61-17c9-4b4e-99bb-c12b22ce9089"
      },
      "execution_count": null,
      "outputs": [
        {
          "output_type": "execute_result",
          "data": {
            "text/plain": [
              "14"
            ]
          },
          "metadata": {},
          "execution_count": 13
        }
      ]
    },
    {
      "cell_type": "code",
      "source": [
        "(2 * (3 + 2)) ** 3 # Mudando a ordem das operações com parênteses"
      ],
      "metadata": {
        "colab": {
          "base_uri": "https://localhost:8080/"
        },
        "id": "uresW-LoyT74",
        "outputId": "fc3386d1-b2a3-4d48-e34a-5db199b71e8d"
      },
      "execution_count": null,
      "outputs": [
        {
          "output_type": "execute_result",
          "data": {
            "text/plain": [
              "1000"
            ]
          },
          "metadata": {},
          "execution_count": 17
        }
      ]
    },
    {
      "cell_type": "markdown",
      "source": [
        "### Conversão de tipos de variáveis"
      ],
      "metadata": {
        "id": "RobUAm-Ev4F7"
      }
    },
    {
      "cell_type": "code",
      "source": [
        "conteudo_gc = 56.5"
      ],
      "metadata": {
        "id": "waKbOyB5wAQ9"
      },
      "execution_count": null,
      "outputs": []
    },
    {
      "cell_type": "code",
      "source": [
        "type(conteudo_gc)"
      ],
      "metadata": {
        "colab": {
          "base_uri": "https://localhost:8080/"
        },
        "id": "pDv25jdmwAax",
        "outputId": "649a65e1-143b-461d-89c6-f1710b739cf6"
      },
      "execution_count": null,
      "outputs": [
        {
          "output_type": "execute_result",
          "data": {
            "text/plain": [
              "float"
            ]
          },
          "metadata": {},
          "execution_count": 8
        }
      ]
    },
    {
      "cell_type": "markdown",
      "source": [
        "Podemos fazer a conversão de números do tipo `float` para números do tipo `inteiro`s usando a função `int`:"
      ],
      "metadata": {
        "id": "Bdc4T5WPwVAi"
      }
    },
    {
      "cell_type": "code",
      "source": [
        "int(conteudo_gc)"
      ],
      "metadata": {
        "colab": {
          "base_uri": "https://localhost:8080/"
        },
        "id": "azp9qXZSwAic",
        "outputId": "945cced7-e84e-46df-df37-10fb312efd62"
      },
      "execution_count": null,
      "outputs": [
        {
          "output_type": "execute_result",
          "data": {
            "text/plain": [
              "56"
            ]
          },
          "metadata": {},
          "execution_count": 9
        }
      ]
    },
    {
      "cell_type": "code",
      "source": [
        "type(conteudo_gc)"
      ],
      "metadata": {
        "colab": {
          "base_uri": "https://localhost:8080/"
        },
        "id": "RzlvrELlwhUH",
        "outputId": "351658ce-eae8-45d4-bd9b-df05d997f162"
      },
      "execution_count": null,
      "outputs": [
        {
          "output_type": "execute_result",
          "data": {
            "text/plain": [
              "float"
            ]
          },
          "metadata": {},
          "execution_count": 10
        }
      ]
    },
    {
      "cell_type": "markdown",
      "source": [
        "Vamos entrar em mais detalhes sobre o uso de cadeias de caracteres (strings) mais adiante, mas é possível converter strings para inteiros ou floats:"
      ],
      "metadata": {
        "id": "FVGvrPy8wj34"
      }
    },
    {
      "cell_type": "code",
      "source": [
        "conteudo_gc = \"56.5\""
      ],
      "metadata": {
        "id": "RirlYRoewnUx"
      },
      "execution_count": null,
      "outputs": []
    },
    {
      "cell_type": "code",
      "source": [
        "conteudo_gc"
      ],
      "metadata": {
        "colab": {
          "base_uri": "https://localhost:8080/",
          "height": 35
        },
        "id": "qsxkfjNAxs3Q",
        "outputId": "9fbb3fbe-19c8-4d88-dd50-b5e7be6f0d2d"
      },
      "execution_count": null,
      "outputs": [
        {
          "output_type": "execute_result",
          "data": {
            "application/vnd.google.colaboratory.intrinsic+json": {
              "type": "string"
            },
            "text/plain": [
              "'56.5'"
            ]
          },
          "metadata": {},
          "execution_count": 21
        }
      ]
    },
    {
      "cell_type": "code",
      "source": [
        "type(conteudo_gc)"
      ],
      "metadata": {
        "colab": {
          "base_uri": "https://localhost:8080/"
        },
        "id": "LZND61dxxtAs",
        "outputId": "fe6b0966-e792-497e-be88-e903a95918c3"
      },
      "execution_count": null,
      "outputs": [
        {
          "output_type": "execute_result",
          "data": {
            "text/plain": [
              "str"
            ]
          },
          "metadata": {},
          "execution_count": 22
        }
      ]
    },
    {
      "cell_type": "code",
      "source": [
        "int(conteudo_gc)"
      ],
      "metadata": {
        "colab": {
          "base_uri": "https://localhost:8080/",
          "height": 165
        },
        "id": "vG0IWFqjxtJI",
        "outputId": "9c5a6f0d-ce4d-4183-8a88-bf8b08887b80"
      },
      "execution_count": null,
      "outputs": [
        {
          "output_type": "error",
          "ename": "ValueError",
          "evalue": "ignored",
          "traceback": [
            "\u001b[0;31m---------------------------------------------------------------------------\u001b[0m",
            "\u001b[0;31mValueError\u001b[0m                                Traceback (most recent call last)",
            "\u001b[0;32m<ipython-input-25-a2fd14e28e86>\u001b[0m in \u001b[0;36m<module>\u001b[0;34m()\u001b[0m\n\u001b[0;32m----> 1\u001b[0;31m \u001b[0mint\u001b[0m\u001b[0;34m(\u001b[0m\u001b[0mconteudo_gc\u001b[0m\u001b[0;34m)\u001b[0m\u001b[0;34m\u001b[0m\u001b[0;34m\u001b[0m\u001b[0m\n\u001b[0m",
            "\u001b[0;31mValueError\u001b[0m: invalid literal for int() with base 10: '56.5'"
          ]
        }
      ]
    },
    {
      "cell_type": "code",
      "source": [
        "float(conteudo_gc)"
      ],
      "metadata": {
        "colab": {
          "base_uri": "https://localhost:8080/"
        },
        "id": "re3ZUyC8x05J",
        "outputId": "68dade7e-204f-4d06-a709-9e62aa72ace8"
      },
      "execution_count": null,
      "outputs": [
        {
          "output_type": "execute_result",
          "data": {
            "text/plain": [
              "56.5"
            ]
          },
          "metadata": {},
          "execution_count": 26
        }
      ]
    },
    {
      "cell_type": "markdown",
      "source": [
        "### NaoAprofundar: uso de funções aninhadas\n",
        "\n",
        "É possível usar funções aninhadas:"
      ],
      "metadata": {
        "id": "Q5zMMmD6x7TP"
      }
    },
    {
      "cell_type": "code",
      "source": [
        "int(float(conteudo_gc))"
      ],
      "metadata": {
        "colab": {
          "base_uri": "https://localhost:8080/"
        },
        "id": "rvwbLSKFx7d8",
        "outputId": "c080b12d-f804-45a3-f18a-a6c2e0a59871"
      },
      "execution_count": null,
      "outputs": [
        {
          "output_type": "execute_result",
          "data": {
            "text/plain": [
              "56"
            ]
          },
          "metadata": {},
          "execution_count": 27
        }
      ]
    },
    {
      "cell_type": "markdown",
      "source": [
        "### NaoAprofundar: bibliotecas"
      ],
      "metadata": {
        "id": "tu2oNH0c7O2E"
      }
    },
    {
      "cell_type": "code",
      "source": [
        "import math"
      ],
      "metadata": {
        "id": "AgMSUevk7O-a"
      },
      "execution_count": null,
      "outputs": []
    },
    {
      "cell_type": "markdown",
      "source": [
        "### Operações não nativas de Python 3\n",
        "\n",
        "* Radiciação, outras ?"
      ],
      "metadata": {
        "id": "9Hh5zl_FBusO"
      }
    },
    {
      "cell_type": "code",
      "source": [
        ""
      ],
      "metadata": {
        "id": "sxtHpCzoBuCP"
      },
      "execution_count": null,
      "outputs": []
    },
    {
      "cell_type": "markdown",
      "source": [
        "## Valores boleanos\n",
        "\n",
        "Em programação, algo que nós fazemos o tempo todo é testar condições.\n",
        "\n",
        "Quando condições são testadas, é possível determinar o fluxo do nosso programa (mais adiante veremos `if`, por exemplo, usado no controle de fluxo de execução).\n",
        "\n",
        "O tipo `Boolean` em Python tem dois valores possíveis:\n",
        " * `True` - verdadeiro\n",
        " * `False` - falso\n",
        "\n",
        "Note que a primeira letra é NECESSARIAMENTE maiúscula!"
      ],
      "metadata": {
        "id": "tox30sjDuJt9"
      }
    },
    {
      "cell_type": "code",
      "source": [
        "resultado_teste = True"
      ],
      "metadata": {
        "id": "H94M2-PT09V9"
      },
      "execution_count": null,
      "outputs": []
    },
    {
      "cell_type": "code",
      "source": [
        "type(resultado_teste) # O tipo retornado é \"bool\", semelhante a \"int\" ou \"float\" quando usamos a função type() usando número como argumentos"
      ],
      "metadata": {
        "colab": {
          "base_uri": "https://localhost:8080/"
        },
        "id": "msIuej7M09f8",
        "outputId": "ebecf5ef-c77e-4925-9be0-f6e46fcae478"
      },
      "execution_count": null,
      "outputs": [
        {
          "output_type": "execute_result",
          "data": {
            "text/plain": [
              "bool"
            ]
          },
          "metadata": {},
          "execution_count": 30
        }
      ]
    },
    {
      "cell_type": "markdown",
      "source": [
        "### NaoAprofundar: operadores de comparação\n",
        "\n",
        "Vamos começar com alguns exemplos de testes realizados com matemática, visto que nós já trabalhando um pouquinho com estas operações!\n",
        "\n",
        "Para a realização de testes na matemática nós precisamos usar **operadores de comparação**:\n",
        "\n",
        " * `==` : testando se dois valores são iguais\n",
        " * `!=` : COMPLETAR\n",
        " * `<` : COMPLETAR\n",
        " * `>` : COMPLETAR\n",
        " * `<=` : COMPLETAR\n",
        " * `>=` : COMPLETAR\n"
      ],
      "metadata": {
        "id": "IIcj7QUv2avJ"
      }
    },
    {
      "cell_type": "markdown",
      "source": [
        ""
      ],
      "metadata": {
        "id": "vZ1K1ZqZuBHp"
      }
    },
    {
      "cell_type": "code",
      "source": [
        "3 == 3"
      ],
      "metadata": {
        "colab": {
          "base_uri": "https://localhost:8080/"
        },
        "id": "7e6PCEyIuBtM",
        "outputId": "0f377e8d-d861-4218-ffe6-83e76e3188fe"
      },
      "execution_count": 96,
      "outputs": [
        {
          "output_type": "execute_result",
          "data": {
            "text/plain": [
              "True"
            ]
          },
          "metadata": {},
          "execution_count": 96
        }
      ]
    },
    {
      "cell_type": "code",
      "source": [
        "3 != 3"
      ],
      "metadata": {
        "colab": {
          "base_uri": "https://localhost:8080/"
        },
        "id": "WZulfX7KuTsw",
        "outputId": "7d6439e1-3c07-41fc-9973-9f9ac55439ae"
      },
      "execution_count": 99,
      "outputs": [
        {
          "output_type": "execute_result",
          "data": {
            "text/plain": [
              "False"
            ]
          },
          "metadata": {},
          "execution_count": 99
        }
      ]
    },
    {
      "cell_type": "code",
      "source": [
        "3 == str(3)"
      ],
      "metadata": {
        "colab": {
          "base_uri": "https://localhost:8080/"
        },
        "id": "mNjpLUVuuGm0",
        "outputId": "22d58213-c076-498b-b45b-00437fed4e3a"
      },
      "execution_count": 97,
      "outputs": [
        {
          "output_type": "execute_result",
          "data": {
            "text/plain": [
              "False"
            ]
          },
          "metadata": {},
          "execution_count": 97
        }
      ]
    },
    {
      "cell_type": "markdown",
      "source": [
        "Obviamente, não conseguimos aplicar uma operação matemática quando comparamos um número e uma string (cadeia de caracteres):"
      ],
      "metadata": {
        "id": "H4I8Wm9iuOen"
      }
    },
    {
      "cell_type": "code",
      "source": [
        "3 >= \"3\""
      ],
      "metadata": {
        "colab": {
          "base_uri": "https://localhost:8080/",
          "height": 165
        },
        "id": "5fLR1Ig8uK-y",
        "outputId": "bad91bbd-8746-4824-8b9e-3f4254f27700"
      },
      "execution_count": 100,
      "outputs": [
        {
          "output_type": "error",
          "ename": "TypeError",
          "evalue": "ignored",
          "traceback": [
            "\u001b[0;31m---------------------------------------------------------------------------\u001b[0m",
            "\u001b[0;31mTypeError\u001b[0m                                 Traceback (most recent call last)",
            "\u001b[0;32m<ipython-input-100-062dab4bc5c2>\u001b[0m in \u001b[0;36m<module>\u001b[0;34m()\u001b[0m\n\u001b[0;32m----> 1\u001b[0;31m \u001b[0;36m3\u001b[0m \u001b[0;34m>=\u001b[0m \u001b[0;34m\"3\"\u001b[0m\u001b[0;34m\u001b[0m\u001b[0;34m\u001b[0m\u001b[0m\n\u001b[0m",
            "\u001b[0;31mTypeError\u001b[0m: '>=' not supported between instances of 'int' and 'str'"
          ]
        }
      ]
    },
    {
      "cell_type": "code",
      "source": [
        "int(3) == float(3)"
      ],
      "metadata": {
        "colab": {
          "base_uri": "https://localhost:8080/"
        },
        "id": "Dtdmh1nb09nP",
        "outputId": "fba60cac-ee0b-405e-f597-43b0a5fda9a6"
      },
      "execution_count": null,
      "outputs": [
        {
          "output_type": "execute_result",
          "data": {
            "text/plain": [
              "True"
            ]
          },
          "metadata": {},
          "execution_count": 33
        }
      ]
    },
    {
      "cell_type": "code",
      "source": [
        ""
      ],
      "metadata": {
        "id": "fwrM5B_Q09uN"
      },
      "execution_count": null,
      "outputs": []
    },
    {
      "cell_type": "markdown",
      "source": [
        "## Estruturas de controle/fluxo: if\n",
        "\n",
        "A estrutura `if` é usada como programação condicional: consiste em uma decisão que deve ser tomada a partir de um teste realizado. Nós fazemos isso a todo momento em nosso dia a dia: usamos estruturas de decisão para determinar se tomamos ou não café, se sacamos ou não dinheiro do caixa eletrônico etc.\n",
        "\n",
        "Anteriormente, vimos os valores booleanos e como eles podem retornar se uma sentença é verdadeira ou falsa. Vamos aplicar estes conhecimentos agora para permitir que nosso programa tome decisões.\n",
        "\n"
      ],
      "metadata": {
        "id": "XTB_j4Mq61of"
      }
    },
    {
      "cell_type": "markdown",
      "source": [
        "A estrutura condicional `if` é composta pelos seguintes elementos:\n",
        "\n",
        "```python\n",
        "if condição:\n",
        "    tarefa\n",
        "```\n",
        "\n",
        "Observem que há um espaço entre o início da linha e a tarefa a ser desempenhada. A isso damos o nome de identação. Ela é obrigatória em Python!\n",
        "\n",
        "Para sermos mais realistas em relação à aplicação de programação em biologia, vamos trabalhar com um exemplo focado no comprimento de uma sequência de proteína. Vamos supor que nosso programa (simples) de computador avalia se uma determinada proteína é longa suficiente para ser incorporada em uma análise que está sendo realizada no laboratório."
      ],
      "metadata": {
        "id": "bAPqwDJy_jzf"
      }
    },
    {
      "cell_type": "code",
      "source": [
        "sequencia_proteina = \"MVPMLWLTAYMAVAVLTAILLNVVYQLFFRLWNRTEPPMVFHWVPYLGSTISYGIDPYKFFFACREKYGD\""
      ],
      "metadata": {
        "id": "IKeEBZUb_j7y"
      },
      "execution_count": null,
      "outputs": []
    },
    {
      "cell_type": "code",
      "source": [
        "sequencia_proteina = \"MVPMLWLTAYMAVAVLTAILLNVVYQLFFRLWNRTEPPMVFHWVPYLGSTISYGIDPYKFFFACREKYGD\\\n",
        "IFTFILLGQKTTVYLGVQGNEFILNGKLKDVNAEEVYSPLTTPVFGSDVVYDCPNSKLMEQKKFIKYGLT\\\n",
        "QSALESHVPLIEKEVLDYLRDSPNFQGSSGRVDISAAMAEITIFTAARALQGQEVRSKLTAEFADLYHDL\\\n",
        "DKGFTPINFMLPWAPLPHNKKRDAAHARMRSIYVDIITQRRLDGEKDSQKSDMIWNLMNCTYKNGQQVPD\\\n",
        "KEIAHMMITLLMAGQHSSSSISAWIMLRLASQPKVLEELYQEQLANLGPAGPDGSLPPLQYKDLDKLPFH\\\n",
        "QHVIRETLRIHSSIHSIMRKVKSPLPVPGTPYMIPPGRVLLASPGVTALSDEHFPNAGCWDPHRWENQAT\\\n",
        "KEQENDKVVDYGYGAVSKGTSSPYLPFGAGRHRCIGEKFAYVNLGVILATIVRHLRLFNVDGKKGVPETD\\\n",
        "YSSLFSGPMKPSIIGWEKRSKNTSK\""
      ],
      "metadata": {
        "id": "WDKmBlbsB8xs"
      },
      "execution_count": null,
      "outputs": []
    },
    {
      "cell_type": "code",
      "source": [
        "sequencia_proteina"
      ],
      "metadata": {
        "colab": {
          "base_uri": "https://localhost:8080/",
          "height": 35
        },
        "id": "Lb_bP0FECMx3",
        "outputId": "25895cbf-e708-451b-b984-54f20a6c4192"
      },
      "execution_count": null,
      "outputs": [
        {
          "output_type": "execute_result",
          "data": {
            "application/vnd.google.colaboratory.intrinsic+json": {
              "type": "string"
            },
            "text/plain": [
              "'MVPMLWLTAYMAVAVLTAILLNVVYQLFFRLWNRTEPPMVFHWVPYLGSTISYGIDPYKFFFACREKYGD'"
            ]
          },
          "metadata": {},
          "execution_count": 23
        }
      ]
    },
    {
      "cell_type": "code",
      "source": [
        "sequencia_proteina"
      ],
      "metadata": {
        "colab": {
          "base_uri": "https://localhost:8080/",
          "height": 70
        },
        "id": "x4BVTWDnA2br",
        "outputId": "a5ddcfe5-8c8d-41a9-c7db-7de88e47db51"
      },
      "execution_count": null,
      "outputs": [
        {
          "output_type": "execute_result",
          "data": {
            "application/vnd.google.colaboratory.intrinsic+json": {
              "type": "string"
            },
            "text/plain": [
              "'MVPMLWLTAYMAVAVLTAILLNVVYQLFFRLWNRTEPPMVFHWVPYLGSTISYGIDPYKFFFACREKYGDIFTFILLGQKTTVYLGVQGNEFILNGKLKDVNAEEVYSPLTTPVFGSDVVYDCPNSKLMEQKKFIKYGLTQSALESHVPLIEKEVLDYLRDSPNFQGSSGRVDISAAMAEITIFTAARALQGQEVRSKLTAEFADLYHDLDKGFTPINFMLPWAPLPHNKKRDAAHARMRSIYVDIITQRRLDGEKDSQKSDMIWNLMNCTYKNGQQVPDKEIAHMMITLLMAGQHSSSSISAWIMLRLASQPKVLEELYQEQLANLGPAGPDGSLPPLQYKDLDKLPFHQHVIRETLRIHSSIHSIMRKVKSPLPVPGTPYMIPPGRVLLASPGVTALSDEHFPNAGCWDPHRWENQATKEQENDKVVDYGYGAVSKGTSSPYLPFGAGRHRCIGEKFAYVNLGVILATIVRHLRLFNVDGKKGVPETDYSSLFSGPMKPSIIGWEKRSKNTSK'"
            ]
          },
          "metadata": {},
          "execution_count": 7
        }
      ]
    },
    {
      "cell_type": "markdown",
      "source": [
        "Vamos trabalhar com estas cadeias de caracteres / textos mais adiante no curso, mas vamos usar uma função chamada `len()`. Ela retorna o comprimento de nossa sequência de proteínas como um inteiro, números com os quais já estamos familiarizados."
      ],
      "metadata": {
        "id": "73ctPmMYCO5U"
      }
    },
    {
      "cell_type": "code",
      "source": [
        "len(sequencia_proteina)"
      ],
      "metadata": {
        "colab": {
          "base_uri": "https://localhost:8080/"
        },
        "id": "HmaEjmKQCsqa",
        "outputId": "5accc096-4a00-47ac-eeb0-934480afa1b4"
      },
      "execution_count": null,
      "outputs": [
        {
          "output_type": "execute_result",
          "data": {
            "text/plain": [
              "70"
            ]
          },
          "metadata": {},
          "execution_count": 24
        }
      ]
    },
    {
      "cell_type": "markdown",
      "source": [
        "Vamos supor que nossa primeira premissa é que as sequências de proteínas usadas no projeto sejam de pelo menos 100 resíduos de aminoácidos para que as possamos considerar nas análises. Usamos:"
      ],
      "metadata": {
        "id": "a_K4RlsEC5AN"
      }
    },
    {
      "cell_type": "code",
      "source": [
        "if len(sequencia_proteina) >= 100:\n",
        "  print(\"Sequência com comprimento aceitável\")"
      ],
      "metadata": {
        "id": "KozdhIT3C2YX"
      },
      "execution_count": null,
      "outputs": []
    },
    {
      "cell_type": "markdown",
      "source": [
        "Lembrando que, como vimos anteriormente, a expressão\n",
        "\n",
        "```python\n",
        "len(sequencia_proteina) >= 100\n",
        "```\n",
        "\n",
        "retorna para a gente um valor booleano (que neste caso é `False`) e, portanto, o bloco de código do `if` não é executado."
      ],
      "metadata": {
        "id": "XYGtnzFwHWpo"
      }
    },
    {
      "cell_type": "code",
      "source": [
        "len(sequencia_proteina) >= 100"
      ],
      "metadata": {
        "colab": {
          "base_uri": "https://localhost:8080/"
        },
        "id": "RKspeu8tHV7-",
        "outputId": "69c2f95d-bede-4495-dafe-f74efcee0a4d"
      },
      "execution_count": null,
      "outputs": [
        {
          "output_type": "execute_result",
          "data": {
            "text/plain": [
              "False"
            ]
          },
          "metadata": {},
          "execution_count": 28
        }
      ]
    },
    {
      "cell_type": "code",
      "source": [
        "if len(sequencia_proteina) >= 100:\n",
        "  print(\"Sequência com comprimento aceitável\")"
      ],
      "metadata": {
        "id": "mVkHRfV6DZau"
      },
      "execution_count": null,
      "outputs": []
    },
    {
      "cell_type": "markdown",
      "source": [
        "### Identação de código\n",
        "\n",
        "Vocês viram que na estrutura de condicional `if` é obrigatório usar o que nós chamamos de `identação de código`. Não vamos nos aprofundar muito nisso durante este curso, mas é importante conhecer este conceito pois ele é usado em várias estruturas apresentadas entre hoje e amanhã.\n",
        "\n",
        "Além disso, a identação adequada nos permite construir redigir códigos mais legíveis! Tanto é verdade que o PEP8 trata questões de identação!\n",
        "\n",
        "Para a linguaguem, a identação pode ser feita de diferentes formas:\n",
        " * Um espaço\n",
        " * Um TAB (tabulação)\n",
        " * Dois ou mais espaços\n",
        "\n",
        "Para [**PEP8**](https://www.python.org/dev/peps/pep-0008/#indentation), no entanto, a conveção é usarmos quatro espaços.\n",
        "\n",
        "Portanto, reparem que o Google Colab inclui automaticamente dois espaços na identação. Vamos nos acostumar e adicionar sempre dois espaços adicionais."
      ],
      "metadata": {
        "id": "CsXlEhBw7eV_"
      }
    },
    {
      "cell_type": "markdown",
      "source": [
        ""
      ],
      "metadata": {
        "id": "r8_k1r6L7e2s"
      }
    },
    {
      "cell_type": "code",
      "source": [
        "# Funciona, mas apresenta apenas dois espaços\n",
        "if len(sequencia_proteina) >= 100:\n",
        "  print(\"Sequência com comprimento aceitável\")"
      ],
      "metadata": {
        "colab": {
          "base_uri": "https://localhost:8080/"
        },
        "id": "vmJpZZBR9D6P",
        "outputId": "ed45ce9b-ffb6-4cd7-a89f-1e0d529313f1"
      },
      "execution_count": null,
      "outputs": [
        {
          "output_type": "stream",
          "name": "stdout",
          "text": [
            "Sequência com comprimento aceitável\n"
          ]
        }
      ]
    },
    {
      "cell_type": "code",
      "source": [
        "if len(sequencia_proteina) >= 100: # Correto (quatro espaços de identação)\n",
        "    print(\"Sequência com comprimento aceitável\")"
      ],
      "metadata": {
        "colab": {
          "base_uri": "https://localhost:8080/"
        },
        "id": "oVSep9ZX65Xk",
        "outputId": "a8aadf05-d21f-4ea5-c45b-5aec6bb3a23f"
      },
      "execution_count": null,
      "outputs": [
        {
          "output_type": "stream",
          "name": "stdout",
          "text": [
            "Sequência com comprimento aceitável\n"
          ]
        }
      ]
    },
    {
      "cell_type": "markdown",
      "source": [
        "### Blocos de código executados no if\n",
        "\n",
        "Uma observação importante sobre os blocos executados no `if`, relacionado com a `indentação` e que será aplicada em outras estruturas mais adiante é que os blocos de código podem ter mais de uma linha:\n"
      ],
      "metadata": {
        "id": "DE7wefzADwM7"
      }
    },
    {
      "cell_type": "code",
      "source": [
        "if len(sequencia_proteina) >= 100: # Correto (quatro espaços de identação)\n",
        "    print(\"Sequência com comprimento aceitável\")\n",
        "    comprimento_seq_cod = len(sequencia_proteina) * 3\n",
        "    print(\"Sequência codificante tem \", comprimento_seq_cod, \" nucleotídeos\")"
      ],
      "metadata": {
        "colab": {
          "base_uri": "https://localhost:8080/"
        },
        "id": "A5i_AXkoEIDI",
        "outputId": "1a5d86c3-b24e-427c-cbfc-248c4b1fc888"
      },
      "execution_count": null,
      "outputs": [
        {
          "output_type": "stream",
          "name": "stdout",
          "text": [
            "Sequência com comprimento aceitável\n",
            "Sequência codificante tem  1545  nucleotídeos\n"
          ]
        }
      ]
    },
    {
      "cell_type": "markdown",
      "source": [
        "## Estruturas de controle/fluxo: if - else"
      ],
      "metadata": {
        "id": "tUVeHFUy65Bd"
      }
    },
    {
      "cell_type": "markdown",
      "source": [
        "Vamos supor que nossos critérios sobre o uso de proteínas com diferentes tamanhos mudou. Em um novo projeto, consideramos o uso de proteínas com comprimentos diferentes, para que possamos usá-las em experimentos com proteínas curtas e compridas:"
      ],
      "metadata": {
        "id": "4VvM0OU4G1iH"
      }
    },
    {
      "cell_type": "code",
      "source": [
        "sequencia_proteina = \"MVPMLWLTAYMAVAVLTAILLNVVYQLFFRLWNRTEPPMVFHWVPYLGSTISYGIDPYKFFFACREKYGD\""
      ],
      "metadata": {
        "id": "EqODPBI9G1AI"
      },
      "execution_count": null,
      "outputs": []
    },
    {
      "cell_type": "markdown",
      "source": [
        "Para este novo caso, temos duas condições que são mutuamente excludentes: a proteína só pode estar em um dos dois grupos:\n",
        "1. comprimento maior que 100aa\n",
        "2. comprimento até 100aa\n",
        "\n",
        "Usaremos a estrutura `if - else`, que é organizada da seguinte maneira:\n",
        "\n",
        "```python\n",
        "if condicao 1:\n",
        "    bloco de execução\n",
        "    # pode ter mais de uma linha\n",
        "else:\n",
        "    bloco de execução\n",
        "    # pode ter mais de uma linha\n",
        "```"
      ],
      "metadata": {
        "id": "vH-wLxcXHDLv"
      }
    },
    {
      "cell_type": "code",
      "source": [
        "if len(sequencia_proteina) > 100:\n",
        "    print(\"Sequência avaliada é longa!\")\n",
        "else:\n",
        "    print(\"Sequência avaliada é curta!\")"
      ],
      "metadata": {
        "id": "XB_kI6ME68K-",
        "colab": {
          "base_uri": "https://localhost:8080/"
        },
        "outputId": "e06fba31-9280-458d-85ed-eeee3fd1946e"
      },
      "execution_count": null,
      "outputs": [
        {
          "output_type": "stream",
          "name": "stdout",
          "text": [
            "Sequência avaliada é curta!\n"
          ]
        }
      ]
    },
    {
      "cell_type": "markdown",
      "source": [
        "## None\n",
        "\n",
        "`NoneType` é um tipo especial de dado em Python cujo valor é `None`.\n",
        "\n",
        "**PRECISO DE BONS EXEMPLOS**"
      ],
      "metadata": {
        "id": "E9LSeKy9ufK5"
      }
    },
    {
      "cell_type": "markdown",
      "source": [
        "## Strings\n",
        "\n",
        " * Apresenta uma sequência de caracteres ordenados\n",
        " * É imutável\n",
        "\n",
        "Por caracteres, entende-se praticamente qualquer símbolo, inclusive espaços:"
      ],
      "metadata": {
        "id": "RoUXEbg6dQdt"
      }
    },
    {
      "cell_type": "code",
      "source": [
        "nome = \"Renat@ ingrata\""
      ],
      "metadata": {
        "id": "uUtOSh49dQl_"
      },
      "execution_count": 102,
      "outputs": []
    },
    {
      "cell_type": "code",
      "source": [
        "str(nome)"
      ],
      "metadata": {
        "id": "f34qcB4vww3c"
      },
      "execution_count": null,
      "outputs": []
    },
    {
      "cell_type": "markdown",
      "source": [
        "Python 3 permite o uso de acentos, mas eu particularmente evito para evitar incompatibilidades entre diferentes editores ou interpretadores."
      ],
      "metadata": {
        "id": "PshgSuh6yIeS"
      }
    },
    {
      "cell_type": "code",
      "source": [
        "nome = \"Jacó\""
      ],
      "metadata": {
        "id": "_TCBdg7cvsaF"
      },
      "execution_count": 104,
      "outputs": []
    },
    {
      "cell_type": "markdown",
      "source": [
        "Como foi foi observado, é possível declarar strings em Python com aspas duplas. Aspas simples podem ser usadas para o mesmo propósito."
      ],
      "metadata": {
        "id": "Z_9I9v_5wA-V"
      }
    },
    {
      "cell_type": "code",
      "source": [
        "nome = \"Renato Augusto\""
      ],
      "metadata": {
        "id": "z0KhtAm3wAKl"
      },
      "execution_count": 105,
      "outputs": []
    },
    {
      "cell_type": "code",
      "source": [
        "nome = 'Renato Augusto'"
      ],
      "metadata": {
        "id": "aeLx8idSwOGM"
      },
      "execution_count": 106,
      "outputs": []
    },
    {
      "cell_type": "markdown",
      "source": [
        "Não é possível declarar strings usando ambas:"
      ],
      "metadata": {
        "id": "aboqAni9wRNz"
      }
    },
    {
      "cell_type": "code",
      "source": [
        "nome = \"Renato Augusto'"
      ],
      "metadata": {
        "colab": {
          "base_uri": "https://localhost:8080/",
          "height": 130
        },
        "id": "d9m2MdX_wPhE",
        "outputId": "5543665a-fca8-4a62-e40a-66e25c9e7eee"
      },
      "execution_count": 107,
      "outputs": [
        {
          "output_type": "error",
          "ename": "SyntaxError",
          "evalue": "ignored",
          "traceback": [
            "\u001b[0;36m  File \u001b[0;32m\"<ipython-input-107-2870612b7d17>\"\u001b[0;36m, line \u001b[0;32m1\u001b[0m\n\u001b[0;31m    nome = \"Renato Augusto'\u001b[0m\n\u001b[0m                           ^\u001b[0m\n\u001b[0;31mSyntaxError\u001b[0m\u001b[0;31m:\u001b[0m EOL while scanning string literal\n"
          ]
        }
      ]
    },
    {
      "cell_type": "markdown",
      "source": [
        "A escolha de uma delas pode ser justificada quando se quer usar aspas como parte da string. Por exemplo:"
      ],
      "metadata": {
        "id": "_qJ1WN5Mwelv"
      }
    },
    {
      "cell_type": "code",
      "source": [
        "nome = 'Renato \"o legal\"'"
      ],
      "metadata": {
        "id": "681OpfywwUb4"
      },
      "execution_count": 110,
      "outputs": []
    },
    {
      "cell_type": "code",
      "source": [
        "nome"
      ],
      "metadata": {
        "colab": {
          "base_uri": "https://localhost:8080/",
          "height": 35
        },
        "id": "v3y-8-8KwnfW",
        "outputId": "ff66ac76-6e0a-40c8-f1c2-bc5aa39600e3"
      },
      "execution_count": 111,
      "outputs": [
        {
          "output_type": "execute_result",
          "data": {
            "application/vnd.google.colaboratory.intrinsic+json": {
              "type": "string"
            },
            "text/plain": [
              "'Renato \"o legal\"'"
            ]
          },
          "metadata": {},
          "execution_count": 111
        }
      ]
    },
    {
      "cell_type": "markdown",
      "source": [
        "## Operações com strings\n",
        "\n",
        " * Concatenação\n",
        " * Comprimento"
      ],
      "metadata": {
        "id": "Q7ye_HYpdrC0"
      }
    },
    {
      "cell_type": "markdown",
      "source": [
        "Vamos concatenar algumas strings:"
      ],
      "metadata": {
        "id": "kQ3hAneZB8sB"
      }
    },
    {
      "cell_type": "code",
      "source": [
        "\"Renato\" + \"Augusto\""
      ],
      "metadata": {
        "colab": {
          "base_uri": "https://localhost:8080/",
          "height": 35
        },
        "id": "qrMMxliwB87Y",
        "outputId": "e31997fe-024c-4ddf-cec6-dc67f93e6aaa"
      },
      "execution_count": null,
      "outputs": [
        {
          "output_type": "execute_result",
          "data": {
            "application/vnd.google.colaboratory.intrinsic+json": {
              "type": "string"
            },
            "text/plain": [
              "'RenatoAugusto'"
            ]
          },
          "metadata": {},
          "execution_count": 39
        }
      ]
    },
    {
      "cell_type": "code",
      "source": [
        "# Lembrando que espaços e caracteres especiais também são considerados caracteres\n",
        "\"Renato\" + \" \" + \"Augusto\""
      ],
      "metadata": {
        "colab": {
          "base_uri": "https://localhost:8080/",
          "height": 35
        },
        "id": "vTwu4eNMCIld",
        "outputId": "0f02d85f-5d75-4d54-a381-fe4bce93eb5c"
      },
      "execution_count": null,
      "outputs": [
        {
          "output_type": "execute_result",
          "data": {
            "application/vnd.google.colaboratory.intrinsic+json": {
              "type": "string"
            },
            "text/plain": [
              "'Renato Augusto'"
            ]
          },
          "metadata": {},
          "execution_count": 41
        }
      ]
    },
    {
      "cell_type": "code",
      "source": [
        "#TODO: explorar um pouco a função print e concatenação de strings para impressão"
      ],
      "metadata": {
        "id": "VvBbroufCnB8"
      },
      "execution_count": null,
      "outputs": []
    },
    {
      "cell_type": "markdown",
      "source": [
        "Até este momento, vocês já devem ter percebido que o interpretador de Python reconhece qual tipo de objeto temos em mãos para realizar uma determinada operação.\n",
        "\n",
        "Por exemplo, se tivéssemos dois números, o operador `+` faria a soma.\n",
        "Como estamos agora lidando com sequências de caracteres, o interpretador reconhecer o sinal `+` como um operador de concatenação.\n",
        "\n",
        "E se tentarmos somar um número e uma palavra?"
      ],
      "metadata": {
        "id": "facwKx-nC298"
      }
    },
    {
      "cell_type": "code",
      "source": [
        "\"45\" + 3"
      ],
      "metadata": {
        "colab": {
          "base_uri": "https://localhost:8080/",
          "height": 165
        },
        "id": "z0Chm7r2C2cD",
        "outputId": "389a6f44-73e0-4651-ec76-c6070e8be337"
      },
      "execution_count": null,
      "outputs": [
        {
          "output_type": "error",
          "ename": "TypeError",
          "evalue": "ignored",
          "traceback": [
            "\u001b[0;31m---------------------------------------------------------------------------\u001b[0m",
            "\u001b[0;31mTypeError\u001b[0m                                 Traceback (most recent call last)",
            "\u001b[0;32m<ipython-input-44-28d38895b89a>\u001b[0m in \u001b[0;36m<module>\u001b[0;34m()\u001b[0m\n\u001b[0;32m----> 1\u001b[0;31m \u001b[0;34m\"45\"\u001b[0m \u001b[0;34m+\u001b[0m \u001b[0;36m3\u001b[0m\u001b[0;34m\u001b[0m\u001b[0;34m\u001b[0m\u001b[0m\n\u001b[0m",
            "\u001b[0;31mTypeError\u001b[0m: can only concatenate str (not \"int\") to str"
          ]
        }
      ]
    },
    {
      "cell_type": "markdown",
      "source": [
        "Já vimos um pouco sobre conversão de variáveis anteriormente.\n",
        "\n",
        "Sim, é possível fazer a conversão durante a execução de uma soma ou de uma concatenação:"
      ],
      "metadata": {
        "id": "DD8-_RnpDk4g"
      }
    },
    {
      "cell_type": "code",
      "source": [
        "int(\"45\") + 3 # Somando após conversão de string para número inteiro"
      ],
      "metadata": {
        "colab": {
          "base_uri": "https://localhost:8080/"
        },
        "id": "rsAb08LBCuE1",
        "outputId": "c884b8b9-9ae6-41de-c9dd-d492c702fce9"
      },
      "execution_count": null,
      "outputs": [
        {
          "output_type": "execute_result",
          "data": {
            "text/plain": [
              "48"
            ]
          },
          "metadata": {},
          "execution_count": 45
        }
      ]
    },
    {
      "cell_type": "code",
      "source": [
        "\"45\" + str(3) # Concatenando após conversão de número inteiro para string"
      ],
      "metadata": {
        "colab": {
          "base_uri": "https://localhost:8080/",
          "height": 35
        },
        "id": "5YEZuW2XD2WQ",
        "outputId": "54ae9bcc-99bb-40ad-c072-8039a1554df8"
      },
      "execution_count": null,
      "outputs": [
        {
          "output_type": "execute_result",
          "data": {
            "application/vnd.google.colaboratory.intrinsic+json": {
              "type": "string"
            },
            "text/plain": [
              "'453'"
            ]
          },
          "metadata": {},
          "execution_count": 47
        }
      ]
    },
    {
      "cell_type": "markdown",
      "source": [
        "Recuperando o comprimento de uma string:"
      ],
      "metadata": {
        "id": "HdVN64iyB9Qc"
      }
    },
    {
      "cell_type": "code",
      "source": [
        "seq_codificadora = \"ATGGTGCCGATGCTATGGCTTACGGCCTACATGGCCGTTGCGGTGCTGACGGCAATCTTGCTCAATGTT\""
      ],
      "metadata": {
        "id": "FGqCtlan_P3W"
      },
      "execution_count": 124,
      "outputs": []
    },
    {
      "cell_type": "code",
      "source": [
        "len(seq_codificadora)"
      ],
      "metadata": {
        "colab": {
          "base_uri": "https://localhost:8080/"
        },
        "id": "dPdDguU3_UF-",
        "outputId": "e4f7ef46-a90b-4d14-e598-f59a7a2a8a70"
      },
      "execution_count": null,
      "outputs": [
        {
          "output_type": "execute_result",
          "data": {
            "text/plain": [
              "69"
            ]
          },
          "metadata": {},
          "execution_count": 16
        }
      ]
    },
    {
      "cell_type": "markdown",
      "source": [
        "### NaoAprofundar: Indexação\n",
        "\n",
        "Indexação é a forma de acessar cada um dos elementos ordenados em uma sequência - no caso de strings, cada um dos caracteres no texto.\n",
        "\n",
        "Em Python, a indexação é chamada `zero based indexing`, já que ela começa em zero. Vamos ver como funciona na prática:"
      ],
      "metadata": {
        "id": "kBsj6bpgAD_p"
      }
    },
    {
      "cell_type": "code",
      "source": [
        "seq_codificadora[1]"
      ],
      "metadata": {
        "colab": {
          "base_uri": "https://localhost:8080/",
          "height": 35
        },
        "id": "b0GnN-y9AqL4",
        "outputId": "92f62c58-c24e-497b-d4c3-451293cbfccd"
      },
      "execution_count": null,
      "outputs": [
        {
          "output_type": "execute_result",
          "data": {
            "application/vnd.google.colaboratory.intrinsic+json": {
              "type": "string"
            },
            "text/plain": [
              "'T'"
            ]
          },
          "metadata": {},
          "execution_count": 17
        }
      ]
    },
    {
      "cell_type": "code",
      "source": [
        "seq_codificadora[0]"
      ],
      "metadata": {
        "colab": {
          "base_uri": "https://localhost:8080/",
          "height": 35
        },
        "id": "vOfD8R-bAr9Q",
        "outputId": "68aced61-4b45-4735-f538-4f74bfa8513b"
      },
      "execution_count": null,
      "outputs": [
        {
          "output_type": "execute_result",
          "data": {
            "application/vnd.google.colaboratory.intrinsic+json": {
              "type": "string"
            },
            "text/plain": [
              "'A'"
            ]
          },
          "metadata": {},
          "execution_count": 18
        }
      ]
    },
    {
      "cell_type": "code",
      "source": [
        "seq_codificadora[-1]"
      ],
      "metadata": {
        "colab": {
          "base_uri": "https://localhost:8080/",
          "height": 35
        },
        "id": "7dSZ5WTpAsFR",
        "outputId": "6e70d5e4-2fbf-4bf0-8f9c-c643effa2f53"
      },
      "execution_count": null,
      "outputs": [
        {
          "output_type": "execute_result",
          "data": {
            "application/vnd.google.colaboratory.intrinsic+json": {
              "type": "string"
            },
            "text/plain": [
              "'T'"
            ]
          },
          "metadata": {},
          "execution_count": 19
        }
      ]
    },
    {
      "cell_type": "code",
      "source": [
        "seq_codificadora[-2]"
      ],
      "metadata": {
        "colab": {
          "base_uri": "https://localhost:8080/",
          "height": 35
        },
        "id": "A8wh8iHtAsMv",
        "outputId": "d98a6164-0192-48a1-cd01-bdefb180bf54"
      },
      "execution_count": null,
      "outputs": [
        {
          "output_type": "execute_result",
          "data": {
            "application/vnd.google.colaboratory.intrinsic+json": {
              "type": "string"
            },
            "text/plain": [
              "'T'"
            ]
          },
          "metadata": {},
          "execution_count": 20
        }
      ]
    },
    {
      "cell_type": "markdown",
      "source": [
        "## Mais algumas operações com strings\n",
        "\n",
        "Alguns métodos:\n",
        " * `find()`\n",
        " * `startswith()`\n",
        " * `endswith()`\n",
        " * `istitle()`\n",
        " * `isupper()`\n",
        " * `islower()`\n",
        " * `isalpha()`\n",
        " * `upper()`\n",
        " * `lower()`\n",
        " * `title()`\n",
        " * `swapcase()`\n",
        "\n",
        "Vamos ver como:\n",
        " * Acessar caracteres\n",
        " * Fatiar strings / acessar substrings\n"
      ],
      "metadata": {
        "id": "gz41d9YljvDx"
      }
    },
    {
      "cell_type": "code",
      "source": [
        "seq_codificadora[0]"
      ],
      "metadata": {
        "colab": {
          "base_uri": "https://localhost:8080/",
          "height": 35
        },
        "id": "ceAp_lJoduIG",
        "outputId": "5d26a4eb-a102-472b-b559-73b92a2b664f"
      },
      "execution_count": null,
      "outputs": [
        {
          "output_type": "execute_result",
          "data": {
            "application/vnd.google.colaboratory.intrinsic+json": {
              "type": "string"
            },
            "text/plain": [
              "'A'"
            ]
          },
          "metadata": {},
          "execution_count": 28
        }
      ]
    },
    {
      "cell_type": "code",
      "source": [
        "seq_codificadora"
      ],
      "metadata": {
        "colab": {
          "base_uri": "https://localhost:8080/",
          "height": 35
        },
        "id": "sksi2Q6tJ70_",
        "outputId": "3cc447c7-4cb6-4227-94b4-3b986d3c7dc2"
      },
      "execution_count": 123,
      "outputs": [
        {
          "output_type": "execute_result",
          "data": {
            "application/vnd.google.colaboratory.intrinsic+json": {
              "type": "string"
            },
            "text/plain": [
              "'ATG'"
            ]
          },
          "metadata": {},
          "execution_count": 123
        }
      ]
    },
    {
      "cell_type": "markdown",
      "source": [
        "Para recuperar substrings (fatias) de nossa string original, usamos a seguinte notação: `string[y:x]`. `y` é o índice da posição inicial da substring e `x` é o índice da posição final, mas não inclusivo.\n",
        "\n",
        "Isso significa que o índice `x` não será incluído na string resultante, apenas a posição `x - 1`"
      ],
      "metadata": {
        "id": "aCooCiByJrS0"
      }
    },
    {
      "cell_type": "code",
      "source": [
        "# Start codon\n",
        "seq_codificadora[0:3]"
      ],
      "metadata": {
        "colab": {
          "base_uri": "https://localhost:8080/",
          "height": 35
        },
        "id": "V1r0p_EuJaNd",
        "outputId": "21cf5fa7-cb50-4328-b9e5-19339eaca3b1"
      },
      "execution_count": null,
      "outputs": [
        {
          "output_type": "execute_result",
          "data": {
            "application/vnd.google.colaboratory.intrinsic+json": {
              "type": "string"
            },
            "text/plain": [
              "'ATG'"
            ]
          },
          "metadata": {},
          "execution_count": 31
        }
      ]
    },
    {
      "cell_type": "code",
      "source": [
        "# Posições 2 e 3 do start codon\n",
        "seq_codificadora[1:3]"
      ],
      "metadata": {
        "colab": {
          "base_uri": "https://localhost:8080/",
          "height": 35
        },
        "id": "OvSe9Hp_J-WH",
        "outputId": "601a64e1-d899-4b0d-d7e7-fbe38c4f72c5"
      },
      "execution_count": null,
      "outputs": [
        {
          "output_type": "execute_result",
          "data": {
            "application/vnd.google.colaboratory.intrinsic+json": {
              "type": "string"
            },
            "text/plain": [
              "'TG'"
            ]
          },
          "metadata": {},
          "execution_count": 32
        }
      ]
    },
    {
      "cell_type": "code",
      "source": [
        "# Apenas posição 3 do start codon\n",
        "seq_codificadora[2:3]"
      ],
      "metadata": {
        "colab": {
          "base_uri": "https://localhost:8080/",
          "height": 35
        },
        "id": "X4OhewP5KEmT",
        "outputId": "016b2ddb-99f2-4577-e38f-9fe8161535c4"
      },
      "execution_count": null,
      "outputs": [
        {
          "output_type": "execute_result",
          "data": {
            "application/vnd.google.colaboratory.intrinsic+json": {
              "type": "string"
            },
            "text/plain": [
              "'G'"
            ]
          },
          "metadata": {},
          "execution_count": 38
        }
      ]
    },
    {
      "cell_type": "markdown",
      "source": [
        "Caso a posição `y` ou `x` seja omitida, assume-se que a referência é a posição inicial ou a posição final, respectivamente:"
      ],
      "metadata": {
        "id": "byJIjZxaMDYr"
      }
    },
    {
      "cell_type": "code",
      "source": [
        "# Tudo até a terceira base (posição 4, não inclusiva)\n",
        "seq_codificadora[:3]"
      ],
      "metadata": {
        "colab": {
          "base_uri": "https://localhost:8080/",
          "height": 35
        },
        "id": "Gcvw1Xc-ME8E",
        "outputId": "adc01448-dd44-4803-8431-2ec916773b04"
      },
      "execution_count": null,
      "outputs": [
        {
          "output_type": "execute_result",
          "data": {
            "application/vnd.google.colaboratory.intrinsic+json": {
              "type": "string"
            },
            "text/plain": [
              "'ATG'"
            ]
          },
          "metadata": {},
          "execution_count": 39
        }
      ]
    },
    {
      "cell_type": "code",
      "source": [
        "# Tudo a partir do quarto elemento (índice 3)\n",
        "seq_codificadora[3:]"
      ],
      "metadata": {
        "colab": {
          "base_uri": "https://localhost:8080/",
          "height": 35
        },
        "id": "WlJBfGAuL3KA",
        "outputId": "bf141aae-b3c5-4c5e-bb06-2fe7fc588f0a"
      },
      "execution_count": null,
      "outputs": [
        {
          "output_type": "execute_result",
          "data": {
            "application/vnd.google.colaboratory.intrinsic+json": {
              "type": "string"
            },
            "text/plain": [
              "'GTGCCGATGCTATGGCTTACGGCCTACATGGCCGTTGCGGTGCTGACGGCAATCTTGCTCAATGTT'"
            ]
          },
          "metadata": {},
          "execution_count": 41
        }
      ]
    },
    {
      "cell_type": "markdown",
      "source": [
        "É importante lembrar que as strings são imutáveis.\n",
        "Nenhuma das operações de fatiamento acima alteram a string original.\n",
        "Caso queiramos usar a subtring posteriormente, é necessário salvar os resultados associando a subtring a uma nova variável.\n",
        "\n",
        "Por exemplo, se quisermos salvar o start codon da sequência analisada:"
      ],
      "metadata": {
        "id": "lBPHzS-qOzjA"
      }
    },
    {
      "cell_type": "code",
      "source": [
        "start_seq_codificadora = seq_codificadora[:3]"
      ],
      "metadata": {
        "id": "_hzXakOcPBzn"
      },
      "execution_count": null,
      "outputs": []
    },
    {
      "cell_type": "code",
      "source": [
        "start_seq_codificadora"
      ],
      "metadata": {
        "colab": {
          "base_uri": "https://localhost:8080/",
          "height": 35
        },
        "id": "Ht8tobq7PO4r",
        "outputId": "2e7063ae-b61b-49a3-8251-fbcd4c0e1d15"
      },
      "execution_count": null,
      "outputs": [
        {
          "output_type": "execute_result",
          "data": {
            "application/vnd.google.colaboratory.intrinsic+json": {
              "type": "string"
            },
            "text/plain": [
              "'ATG'"
            ]
          },
          "metadata": {},
          "execution_count": 43
        }
      ]
    },
    {
      "cell_type": "markdown",
      "source": [
        "## Mais operações com strings\n",
        "\n",
        " * Concatenando substrings\n",
        " * Repetindo strings\n",
        " * Split / quebra de strings\n",
        " * Contagem de strings\n"
      ],
      "metadata": {
        "id": "04Q3LvJIkEIH"
      }
    },
    {
      "cell_type": "code",
      "source": [
        "seq_codificadora[:3] + seq_codificadora[3:6]"
      ],
      "metadata": {
        "id": "EPl_m10lBy23",
        "colab": {
          "base_uri": "https://localhost:8080/",
          "height": 35
        },
        "outputId": "5f80fac3-e53b-441b-99a4-dcd326899263"
      },
      "execution_count": 125,
      "outputs": [
        {
          "output_type": "execute_result",
          "data": {
            "application/vnd.google.colaboratory.intrinsic+json": {
              "type": "string"
            },
            "text/plain": [
              "'ATGGTG'"
            ]
          },
          "metadata": {},
          "execution_count": 125
        }
      ]
    },
    {
      "cell_type": "code",
      "source": [
        "3 * seq_codificadora[:3]"
      ],
      "metadata": {
        "id": "z3uyUfesBzEl",
        "colab": {
          "base_uri": "https://localhost:8080/",
          "height": 35
        },
        "outputId": "131fd501-4061-43b0-e754-b8f213a31f6b"
      },
      "execution_count": 126,
      "outputs": [
        {
          "output_type": "execute_result",
          "data": {
            "application/vnd.google.colaboratory.intrinsic+json": {
              "type": "string"
            },
            "text/plain": [
              "'ATGATGATG'"
            ]
          },
          "metadata": {},
          "execution_count": 126
        }
      ]
    },
    {
      "cell_type": "code",
      "source": [
        "especie_patogeno = \"Aspergillus fumigatus\""
      ],
      "metadata": {
        "id": "1AxNf3B4BzOG"
      },
      "execution_count": 128,
      "outputs": []
    },
    {
      "cell_type": "code",
      "source": [
        "especie_patogeno.split(' ')"
      ],
      "metadata": {
        "id": "g-J3Fk1YBzWV",
        "colab": {
          "base_uri": "https://localhost:8080/"
        },
        "outputId": "755d4b10-fb64-45b0-84a7-6deb8bc47ef9"
      },
      "execution_count": 129,
      "outputs": [
        {
          "output_type": "execute_result",
          "data": {
            "text/plain": [
              "['Aspergillus', 'fumigatus']"
            ]
          },
          "metadata": {},
          "execution_count": 129
        }
      ]
    },
    {
      "cell_type": "markdown",
      "source": [
        "Esta operação nos retorna uma lista de elementos separados pelo separador (redundante rs) ` `. Vamos ver mais adiante como recuperar cada um dos elementos de listas, mas por enquanto vamos apenas acreditar que a seguinte sintaxe nos permite recuperar o primeiro elemento da lista:"
      ],
      "metadata": {
        "id": "_DVheRWa1-FJ"
      }
    },
    {
      "cell_type": "code",
      "source": [
        "especie_patogeno_queb = especie_patogeno.split(' ')"
      ],
      "metadata": {
        "id": "DhcpyZ_R11PS"
      },
      "execution_count": 133,
      "outputs": []
    },
    {
      "cell_type": "code",
      "source": [
        "especie_patogeno_queb[0]"
      ],
      "metadata": {
        "colab": {
          "base_uri": "https://localhost:8080/",
          "height": 35
        },
        "id": "93ZY_Mrw15Jj",
        "outputId": "b47dbebb-2290-4e48-fe4f-ebeb5bb85517"
      },
      "execution_count": 134,
      "outputs": [
        {
          "output_type": "execute_result",
          "data": {
            "application/vnd.google.colaboratory.intrinsic+json": {
              "type": "string"
            },
            "text/plain": [
              "'Aspergillus'"
            ]
          },
          "metadata": {},
          "execution_count": 134
        }
      ]
    },
    {
      "cell_type": "code",
      "source": [
        "genero_fungo = especie_patogeno.split(' ')[0]"
      ],
      "metadata": {
        "id": "8yaqJixd2XUI"
      },
      "execution_count": 136,
      "outputs": []
    },
    {
      "cell_type": "code",
      "source": [
        "genero_fungo"
      ],
      "metadata": {
        "colab": {
          "base_uri": "https://localhost:8080/",
          "height": 35
        },
        "id": "G5Pp6tMx2eeL",
        "outputId": "d4f33acd-9639-427f-85d6-4747d90c6ba7"
      },
      "execution_count": 137,
      "outputs": [
        {
          "output_type": "execute_result",
          "data": {
            "application/vnd.google.colaboratory.intrinsic+json": {
              "type": "string"
            },
            "text/plain": [
              "'Aspergillus'"
            ]
          },
          "metadata": {},
          "execution_count": 137
        }
      ]
    },
    {
      "cell_type": "markdown",
      "source": [
        "Contando palavras separadas por espaço em uma string (já que a função len() pode ser usada também para contar elementos de uma lista em Python):"
      ],
      "metadata": {
        "id": "8mYV65_j2nGM"
      }
    },
    {
      "cell_type": "code",
      "source": [
        "len(especie_patogeno.split(' '))"
      ],
      "metadata": {
        "colab": {
          "base_uri": "https://localhost:8080/"
        },
        "id": "08JBIJQG2mQB",
        "outputId": "bb651cc3-4b04-42bb-bdc3-b5a7a08a667b"
      },
      "execution_count": 139,
      "outputs": [
        {
          "output_type": "execute_result",
          "data": {
            "text/plain": [
              "2"
            ]
          },
          "metadata": {},
          "execution_count": 139
        }
      ]
    },
    {
      "cell_type": "markdown",
      "source": [
        "Podemos fazer substituições com strings com o método `replace()`:"
      ],
      "metadata": {
        "id": "yFbxp-c-uvS2"
      }
    },
    {
      "cell_type": "code",
      "source": [
        "seq_codificadora = \"ATGGTGCCGATGCTATGGCTTACGGCCTACATGGCCGTTGCGGTGCTGACGGCAATCTTGCTCAATGTT\""
      ],
      "metadata": {
        "id": "QGfN8Axxuvid"
      },
      "execution_count": 113,
      "outputs": []
    },
    {
      "cell_type": "code",
      "source": [
        "seq_codificadora.replace('T','U')"
      ],
      "metadata": {
        "colab": {
          "base_uri": "https://localhost:8080/",
          "height": 35
        },
        "id": "3vaqTG7fy0zI",
        "outputId": "ed0a8420-bc83-4413-bf85-5a19d93d3eb4"
      },
      "execution_count": 114,
      "outputs": [
        {
          "output_type": "execute_result",
          "data": {
            "application/vnd.google.colaboratory.intrinsic+json": {
              "type": "string"
            },
            "text/plain": [
              "'AUGGUGCCGAUGCUAUGGCUUACGGCCUACAUGGCCGUUGCGGUGCUGACGGCAAUCUUGCUCAAUGUU'"
            ]
          },
          "metadata": {},
          "execution_count": 114
        }
      ]
    },
    {
      "cell_type": "markdown",
      "source": [
        "Lembrando que dependendo da mutabilidade do objeto, os métodos não farão a alteração, apenas retornarão uma cópia modificada (que é o caso de `replace()`)."
      ],
      "metadata": {
        "id": "On8_X2MJzihl"
      }
    },
    {
      "cell_type": "code",
      "source": [
        "seq_codificadora_rna = seq_codificadora.replace('T','U')"
      ],
      "metadata": {
        "id": "c3UL__r6zftE"
      },
      "execution_count": 116,
      "outputs": []
    },
    {
      "cell_type": "code",
      "source": [
        "print(\"seq_codificadora: \", seq_codificadora)\n",
        "print(\"seq_codificadora_rna: \", seq_codificadora_rna)"
      ],
      "metadata": {
        "colab": {
          "base_uri": "https://localhost:8080/"
        },
        "id": "MeX6hvFizyfK",
        "outputId": "9fbad487-925d-4b0a-84ca-3a380d70cf0a"
      },
      "execution_count": 118,
      "outputs": [
        {
          "output_type": "stream",
          "name": "stdout",
          "text": [
            "seq_codificadora:  ATGGTGCCGATGCTATGGCTTACGGCCTACATGGCCGTTGCGGTGCTGACGGCAATCTTGCTCAATGTT\n",
            "seq_codificadora_rna:  AUGGUGCCGAUGCUAUGGCUUACGGCCUACAUGGCCGUUGCGGUGCUGACGGCAAUCUUGCUCAAUGUU\n"
          ]
        }
      ]
    },
    {
      "cell_type": "markdown",
      "source": [
        "### NaoAprofundar: Conversão de tipos de objetos\n"
      ],
      "metadata": {
        "id": "ImUF405GkTej"
      }
    },
    {
      "cell_type": "markdown",
      "source": [
        "### NaoAprofundar: operadores lógicos\n",
        "\n",
        "Além dos operadores de comparação já estudados, há alguns operadores que são chamados lógicos. São eles:\n",
        "\n",
        " * `and`: retorna verdadeiro (`True`) caso as duas condições sejam verdadeiras\n",
        " * `or`: retorna verdadeiro caso pelo menos uma das condições seja verdadeira\n",
        " * `not`: retorna verdadeiro caso o valor testado seja falso\n",
        "\n",
        "Vamos usar como exemplo uma das nossas sequências de aminoácidos. Vamos supor que agora, além de termos proteínas com tamanhos diferentes em nosso experimento, precisamos também que todas as proteínas do estudo tenham um aspartato (ácido aspárgico), cujo símbolo de uma letra é `D`.\n"
      ],
      "metadata": {
        "id": "kLwULNR1MfJr"
      }
    },
    {
      "cell_type": "code",
      "source": [
        "sequencia_proteina = \"MVPMLWLTAYMAVAVLTAILLNVVYQLFFRLWNRTEPPMVFHWVPYLGSTISYGI\"\n",
        "\n",
        "if (len(sequencia_proteina) > 100) and ('D' in sequencia_dna):\n",
        "    print(\"Sequência avaliada é longa!\")\n",
        "else:\n",
        "    print(\"Sequência avaliada é curta!\")"
      ],
      "metadata": {
        "colab": {
          "base_uri": "https://localhost:8080/"
        },
        "id": "uNghPOVJMs_k",
        "outputId": "0800080a-4c2d-4262-9b99-735705b4bcb7"
      },
      "execution_count": null,
      "outputs": [
        {
          "output_type": "stream",
          "name": "stdout",
          "text": [
            "Sequência avaliada é curta!\n"
          ]
        }
      ]
    },
    {
      "cell_type": "markdown",
      "source": [
        "## Estruturas de controle/fluxo: if - elif - else\n",
        "\n",
        "### NaoAprofundar: Tabela da Verdade.\n"
      ],
      "metadata": {
        "id": "4CD4nMNUM5ty"
      }
    },
    {
      "cell_type": "markdown",
      "source": [
        "## Coleções ou containers\n",
        "\n",
        "As coleções em Python são assim chamadas pois elas armazenam coleções de objetos (ou 'containers' por conterem estes objetos).\n",
        "\n",
        "São coleções:\n",
        " * Listas (sequências)\n",
        " * Tuplas (sequências)\n",
        " * Sets\n",
        " * Dicionários\n",
        "\n",
        " Neste curso, vamos olhar principalmente para listas e dicionários."
      ],
      "metadata": {
        "id": "P5B-A5ljduUS"
      }
    },
    {
      "cell_type": "markdown",
      "source": [
        "## Sequências\n",
        "\n",
        "Sequências apresentam objetos de três tipos:\n",
        " * Listas\n",
        " * Tuplas\n",
        " * Ranges\n",
        "\n",
        "[Algumas operações](https://docs.python.org/3/library/stdtypes.html#sequence-types-list-tuple-range) são comuns a estes objetos, tanto os mutáveis (listas) como os imutáveis.\n",
        "\n",
        "Neste curso, vamos focar em listas, mas saibam que tuplas e ranges também são bastante importantes e apresentam inúmeras aplicações em algoritmos / tarefas computacionais."
      ],
      "metadata": {
        "id": "Wt4xP7o86gXp"
      }
    },
    {
      "cell_type": "markdown",
      "source": [
        "## Listas\n",
        "\n",
        " * São coleções/containers ordenados de elements\n",
        " * Listas são mutáveis (podemos adicionar, remover e alterar seus elementos/objetos)"
      ],
      "metadata": {
        "id": "o4IrfwOadxo3"
      }
    },
    {
      "cell_type": "markdown",
      "source": [
        "### Criando listas\n",
        "\n",
        "Eu (RACS) sou apaixonado por funguinhos, então meus exemplos serão com estes organismos fantásticos.\n",
        "\n",
        "Vamos criar uma lista!\n",
        "\n",
        "**Atenção!!!**\n",
        "Vamos lembrar que existe uma série de convenções e boas práticas para programação em Python estabelecidas no PEP8. Vamos olhar novamente para isso agora!"
      ],
      "metadata": {
        "id": "InWbcB0Nrx_e"
      }
    },
    {
      "cell_type": "code",
      "source": [
        "[\"Aspergillus\", \"Penicillium\", \"Kalmanozyma\"] # Uma convenção para deixar o código mais legível é sempre incluir um espaço depois da vírgula!"
      ],
      "metadata": {
        "id": "9jwIN8-pd1ng",
        "colab": {
          "base_uri": "https://localhost:8080/"
        },
        "outputId": "f1bbbfec-de58-42a9-fb1b-3f3cb60799dc"
      },
      "execution_count": null,
      "outputs": [
        {
          "output_type": "execute_result",
          "data": {
            "text/plain": [
              "['Aspergillus', 'Penicillium', 'Kalmanozyma']"
            ]
          },
          "metadata": {},
          "execution_count": 4
        }
      ]
    },
    {
      "cell_type": "markdown",
      "source": [
        "Esta lista foi criada com `strings`, mas é perfeitamente possível criar listas com elementos de tipos diferentes. Por exemplo:"
      ],
      "metadata": {
        "id": "TRo8JorysBNv"
      }
    },
    {
      "cell_type": "code",
      "source": [
        "[\"Aspergillus\", \"Penicillium\", 4]"
      ],
      "metadata": {
        "colab": {
          "base_uri": "https://localhost:8080/"
        },
        "id": "AtMRO6tqsAZW",
        "outputId": "f6ce451e-18a6-4c59-c0db-3a2596ae6e0f"
      },
      "execution_count": null,
      "outputs": [
        {
          "output_type": "execute_result",
          "data": {
            "text/plain": [
              "['Aspergillus', 'Penicillium', 4]"
            ]
          },
          "metadata": {},
          "execution_count": 2
        }
      ]
    },
    {
      "cell_type": "markdown",
      "source": [
        "É possível, inclusive, criar uma lista dentro de outra lista:"
      ],
      "metadata": {
        "id": "MTqb36chsJz9"
      }
    },
    {
      "cell_type": "code",
      "source": [
        "[[\"Aspergillus fumigatus\", \"Aspergillus lentulus\", \"Aspergillus fumigatiaffinis\"], \"Aspergillus\", 4]"
      ],
      "metadata": {
        "colab": {
          "base_uri": "https://localhost:8080/"
        },
        "id": "Upzj3DCIr9je",
        "outputId": "4aeb8d8e-fc7e-45ff-d8ae-1e9aa8790c1a"
      },
      "execution_count": null,
      "outputs": [
        {
          "output_type": "execute_result",
          "data": {
            "text/plain": [
              "[['Aspergillus fumigatus',\n",
              "  'Aspergillus lentulus',\n",
              "  'Aspergillus fumigatiaffinis'],\n",
              " 'Aspergillus',\n",
              " 4]"
            ]
          },
          "metadata": {},
          "execution_count": 3
        }
      ]
    },
    {
      "cell_type": "markdown",
      "source": [
        "### Criando variáveis\n",
        "\n",
        "Variáveis não referenciam apenas strings, números e valores booleanos!\n",
        "As variáveis também fazem referência a listas, tuplas, dicionários e outros objetos em Python."
      ],
      "metadata": {
        "id": "705hEvyHtC-j"
      }
    },
    {
      "cell_type": "code",
      "source": [
        "generos_fungo = [\"Aspergillus\", \"Penicillium\", \"Kalmanozyma\"] # lembrando que o nome da variável deve ser o mais descritivo possível"
      ],
      "metadata": {
        "id": "7BzDjiQXtSS5"
      },
      "execution_count": null,
      "outputs": []
    },
    {
      "cell_type": "code",
      "source": [
        "# Dando um nome mais geral, já que nesta lista estamos incluindo não apenas gêneros de fungos, mas também listas de espécies como elementos da lista principal\n",
        "fungos = [\"Aspergillus\", \"Penicillium\", \"Kalmanozyma\", [\"Aspergillus fumigatus\", \"Aspergillus lentulus\", \"Aspergillus fumigatiaffinis\"]]"
      ],
      "metadata": {
        "id": "hV5oWdf4tSZ_"
      },
      "execution_count": null,
      "outputs": []
    },
    {
      "cell_type": "markdown",
      "source": [
        "### Acessando elementos de uma lista\n",
        "\n",
        "Assim como em strings, as listas/tuplas/ranges são indexados.\n",
        "\n",
        "Lembrando que a indexação em Python começa em zero, vamos recuperar o primeiro elemento da lista"
      ],
      "metadata": {
        "id": "tYLilEhMsYAw"
      }
    },
    {
      "cell_type": "code",
      "source": [
        "[\"Aspergillus\", \"Penicillium\", \"Kalmanozyma\"][0]"
      ],
      "metadata": {
        "colab": {
          "base_uri": "https://localhost:8080/",
          "height": 35
        },
        "id": "XpZ-cZrAsbA2",
        "outputId": "5ec51617-81a1-4c47-f882-3c2ab6015e38"
      },
      "execution_count": null,
      "outputs": [
        {
          "output_type": "execute_result",
          "data": {
            "application/vnd.google.colaboratory.intrinsic+json": {
              "type": "string"
            },
            "text/plain": [
              "'Aspergillus'"
            ]
          },
          "metadata": {},
          "execution_count": 36
        }
      ]
    },
    {
      "cell_type": "code",
      "source": [
        "generos_fungo"
      ],
      "metadata": {
        "colab": {
          "base_uri": "https://localhost:8080/"
        },
        "id": "e6md5eKTBpIh",
        "outputId": "762809f8-cfaa-45fb-fc90-1bc413d31e1f"
      },
      "execution_count": null,
      "outputs": [
        {
          "output_type": "execute_result",
          "data": {
            "text/plain": [
              "['Aspergillus', 'Penicillium', 'Kalmanozyma']"
            ]
          },
          "metadata": {},
          "execution_count": 38
        }
      ]
    },
    {
      "cell_type": "code",
      "source": [
        "generos_fungo[0]"
      ],
      "metadata": {
        "colab": {
          "base_uri": "https://localhost:8080/",
          "height": 35
        },
        "id": "FiMaGWghsbFn",
        "outputId": "bd0d5a29-3fc5-47af-9140-0267e45c572c"
      },
      "execution_count": null,
      "outputs": [
        {
          "output_type": "execute_result",
          "data": {
            "application/vnd.google.colaboratory.intrinsic+json": {
              "type": "string"
            },
            "text/plain": [
              "'Aspergillus'"
            ]
          },
          "metadata": {},
          "execution_count": 37
        }
      ]
    },
    {
      "cell_type": "code",
      "source": [
        ""
      ],
      "metadata": {
        "id": "lKgsGDA0sbLD"
      },
      "execution_count": null,
      "outputs": []
    },
    {
      "cell_type": "markdown",
      "source": [
        "## Operações com listas\n",
        "\n",
        " * \n",
        " * Alteração de valores (ponto de partida para a discussão sobre a mutabilidade)"
      ],
      "metadata": {
        "id": "UOpLnwIEojn2"
      }
    },
    {
      "cell_type": "code",
      "source": [
        ""
      ],
      "metadata": {
        "id": "J7Tv_0GUojzI"
      },
      "execution_count": null,
      "outputs": []
    },
    {
      "cell_type": "markdown",
      "source": [
        "### NaoAprofundar: mutabilidade, listas e tuplas"
      ],
      "metadata": {
        "id": "hzlvfDXbobMK"
      }
    },
    {
      "cell_type": "markdown",
      "source": [
        "## Mais sobre números"
      ],
      "metadata": {
        "id": "spLjb84akeO0"
      }
    },
    {
      "cell_type": "code",
      "source": [
        ""
      ],
      "metadata": {
        "id": "Ob8ZdA93lVXK"
      },
      "execution_count": null,
      "outputs": []
    },
    {
      "cell_type": "markdown",
      "source": [
        ""
      ],
      "metadata": {
        "id": "t0lOS7NrlVnn"
      }
    },
    {
      "cell_type": "code",
      "source": [
        ""
      ],
      "metadata": {
        "id": "RMGAwBmhlVw3"
      },
      "execution_count": null,
      "outputs": []
    },
    {
      "cell_type": "markdown",
      "source": [
        "## Funções\n",
        "\n",
        "Em aplicações grandes e complexas, geralmente o desenvolvedor precisa quebrar o código e suas funcionalidades em diferentes partes. O desenvolvimento de funções permite que o trabalho seja separado da aplicação principal (modular), facilitando a realização de testes e manutenção.\n",
        "\n",
        "As funções podem ser escritas em um local e usadas múltiplas vezes ou mesmo importadas de outros arquivos (módulos|arquivos e pacotes|diretórios; não nos aprofundaremos neste tema durante o presente curso).\n",
        "\n",
        "Funções podem ser:\n",
        " * **built-in / nativas**: por exemplo, as funções `print()` e `input()` usadas neste evento foram definidas previamente e são consideradas nativas da linguagem.\n",
        " * **definidas pelo usuário**: todas as definidas por desenvolvedores, que não sejam nativas da linguagem. Por exemplo, as funções disponível na biblioteca `math`, importada na etapa que olhamos operações numéricas com Python.\n",
        "\n"
      ],
      "metadata": {
        "id": "p-oksZ1-d1v-"
      }
    },
    {
      "cell_type": "markdown",
      "source": [
        "Vamos definir a função `retorna_start_codon` que, como o próprio nome descreve, retorna o start codon de uma sequência codificadora.\n",
        "\n",
        "As regras de PEP8 para a definição de nomes de funções são as mesmas que usamos para criação de variáveis em geral (todas as letras minúsculas e palavras separadas por underline/underscore).\n",
        "\n",
        "Lembrando que é sempre uma boa prática o uso de comentários (no caso, chamamos de `docstring`) para descrever a função em construção.\n",
        "\n",
        "Algo importante a definir são os termos:\n",
        " * **Parâmetro**: variável definida na função. No nossa caso, estamos definindo a variável `seq`, que será usada para recuperar o codon de início.\n",
        " * **Argumento**: valor/dado passado para a função, quando ela é chamada. Vamos ver um exemplo de uso já já."
      ],
      "metadata": {
        "id": "mN13CYm89bha"
      }
    },
    {
      "cell_type": "code",
      "source": [
        "def retorna_start_codon(seq):\n",
        "  \"\"\"Função que retorna o start codon de uma sequência codificadora.\"\"\"\n",
        "  return seq[0:3]"
      ],
      "metadata": {
        "id": "5rM5-hOhe1_Y"
      },
      "execution_count": null,
      "outputs": []
    },
    {
      "cell_type": "markdown",
      "source": [
        ""
      ],
      "metadata": {
        "id": "D15L__8eIeiX"
      }
    },
    {
      "cell_type": "code",
      "source": [
        "# Caso a sequência não tenha sido anteriormente definida\n",
        "seq_codificadora = \"ATGGTGCCGATGCTATGGCTTACGGCCTACATGGCCGTTGCGGTGCTGACGGCAATCTTGCTCAATGTT\""
      ],
      "metadata": {
        "id": "xULZn2LKIeqG"
      },
      "execution_count": null,
      "outputs": []
    },
    {
      "cell_type": "markdown",
      "source": [
        "Para usar uma função previamente definida, basta substituir o parâmetro definido entre parênteses em `def` (neste exemplo, `seq`):"
      ],
      "metadata": {
        "id": "NWst6TBjIm8B"
      }
    },
    {
      "cell_type": "code",
      "source": [
        "retorna_start_codon(seq_codificadora)"
      ],
      "metadata": {
        "colab": {
          "base_uri": "https://localhost:8080/",
          "height": 35
        },
        "id": "J38L4LFGInLs",
        "outputId": "0056023c-eacc-4885-9c92-be4e8f4f76b6"
      },
      "execution_count": null,
      "outputs": [
        {
          "output_type": "execute_result",
          "data": {
            "application/vnd.google.colaboratory.intrinsic+json": {
              "type": "string"
            },
            "text/plain": [
              "'ATG'"
            ]
          },
          "metadata": {},
          "execution_count": 24
        }
      ]
    },
    {
      "cell_type": "markdown",
      "source": [
        "É claro que a nossa função espera que a string dada como entrada esteja correta e tenha sido previamente curada. Se passarmos qualquer outra string, a função fará o mesmo: retornará as três primeiras letras:"
      ],
      "metadata": {
        "id": "NYRV3t_pJEIi"
      }
    },
    {
      "cell_type": "code",
      "source": [
        "retorna_start_codon(\"CATGTRATACCAGTATG\")"
      ],
      "metadata": {
        "colab": {
          "base_uri": "https://localhost:8080/",
          "height": 35
        },
        "id": "ZMKNtD2TJERq",
        "outputId": "ff9d146f-1f57-409f-bff1-1d7aa2f3fb7f"
      },
      "execution_count": null,
      "outputs": [
        {
          "output_type": "execute_result",
          "data": {
            "application/vnd.google.colaboratory.intrinsic+json": {
              "type": "string"
            },
            "text/plain": [
              "'CAT'"
            ]
          },
          "metadata": {},
          "execution_count": 27
        }
      ]
    },
    {
      "cell_type": "code",
      "source": [
        "start_seq_codificadora = retorna_start_codon(seq_codificadora)"
      ],
      "metadata": {
        "id": "V18NJFcTIysv"
      },
      "execution_count": null,
      "outputs": []
    },
    {
      "cell_type": "code",
      "source": [
        "start_seq_codificadora"
      ],
      "metadata": {
        "colab": {
          "base_uri": "https://localhost:8080/",
          "height": 35
        },
        "id": "q-dnRf_7I2OQ",
        "outputId": "ee377e03-19d1-4e9b-f612-5c6c9c6ecce6"
      },
      "execution_count": null,
      "outputs": [
        {
          "output_type": "execute_result",
          "data": {
            "application/vnd.google.colaboratory.intrinsic+json": {
              "type": "string"
            },
            "text/plain": [
              "'ATG'"
            ]
          },
          "metadata": {},
          "execution_count": 26
        }
      ]
    },
    {
      "cell_type": "markdown",
      "source": [
        "As funções não necessariamente precisar receber argumentos. Por exemplo, é possível definir uma função que imprime algo na tela:"
      ],
      "metadata": {
        "id": "oHnsmPrtSGNJ"
      }
    },
    {
      "cell_type": "code",
      "source": [
        "def imprime_dez_vezes_ATG():\n",
        "  print(\"ATG\\n\" * 10)"
      ],
      "metadata": {
        "id": "GUgaLiCNSGZt"
      },
      "execution_count": null,
      "outputs": []
    },
    {
      "cell_type": "code",
      "source": [
        "imprime_dez_vezes_ATG()"
      ],
      "metadata": {
        "colab": {
          "base_uri": "https://localhost:8080/"
        },
        "id": "V11UNm2iSZuC",
        "outputId": "43b89b0b-aabb-441d-a35e-3b0d30bbfd6f"
      },
      "execution_count": null,
      "outputs": [
        {
          "output_type": "stream",
          "name": "stdout",
          "text": [
            "ATG\n",
            "ATG\n",
            "ATG\n",
            "ATG\n",
            "ATG\n",
            "ATG\n",
            "ATG\n",
            "ATG\n",
            "ATG\n",
            "ATG\n",
            "\n"
          ]
        }
      ]
    },
    {
      "cell_type": "markdown",
      "source": [
        "Notem que funções não necessariamente precisam retorna um valor, mas simplesmente desempenhar uma determinada função."
      ],
      "metadata": {
        "id": "kg3eD6WASf0I"
      }
    },
    {
      "cell_type": "code",
      "source": [
        "multiplos_ATGs = imprime_dez_vezes_ATG()"
      ],
      "metadata": {
        "colab": {
          "base_uri": "https://localhost:8080/"
        },
        "id": "21b-hbEJTHlP",
        "outputId": "b8fb1993-0c6e-4b7d-958c-984f57aeed87"
      },
      "execution_count": null,
      "outputs": [
        {
          "output_type": "stream",
          "name": "stdout",
          "text": [
            "ATG\n",
            "ATG\n",
            "ATG\n",
            "ATG\n",
            "ATG\n",
            "ATG\n",
            "ATG\n",
            "ATG\n",
            "ATG\n",
            "ATG\n",
            "\n"
          ]
        }
      ]
    },
    {
      "cell_type": "code",
      "source": [
        "multiplos_ATGs"
      ],
      "metadata": {
        "id": "gk7RZGBKTWAC"
      },
      "execution_count": null,
      "outputs": []
    },
    {
      "cell_type": "markdown",
      "source": [
        "Não vamos dar muitos detalhes sobre a criação de funções neste curso, mas é importante saber como elas são definidas."
      ],
      "metadata": {
        "id": "8hOJwkEJTG6d"
      }
    },
    {
      "cell_type": "markdown",
      "source": [
        "### NaoAprofundar: Docstring"
      ],
      "metadata": {
        "id": "7KsO-kuIlILr"
      }
    },
    {
      "cell_type": "code",
      "source": [
        ""
      ],
      "metadata": {
        "id": "R0ACJE6hmXwr"
      },
      "execution_count": null,
      "outputs": []
    },
    {
      "cell_type": "markdown",
      "source": [
        ""
      ],
      "metadata": {
        "id": "Cg2oWLTtmX98"
      }
    },
    {
      "cell_type": "code",
      "source": [
        ""
      ],
      "metadata": {
        "id": "xUiCIfxxmuud"
      },
      "execution_count": null,
      "outputs": []
    },
    {
      "cell_type": "markdown",
      "source": [
        "## Iteração / Loops: while"
      ],
      "metadata": {
        "id": "K0s3vpd_m_jq"
      }
    },
    {
      "cell_type": "code",
      "source": [
        ""
      ],
      "metadata": {
        "id": "KJiWrfflnB6C"
      },
      "execution_count": null,
      "outputs": []
    },
    {
      "cell_type": "markdown",
      "source": [
        "## Iteração / Loops: for"
      ],
      "metadata": {
        "id": "RlCOSFnxnG6_"
      }
    },
    {
      "cell_type": "code",
      "source": [
        ""
      ],
      "metadata": {
        "id": "bBF_Ex6rnIOo"
      },
      "execution_count": null,
      "outputs": []
    },
    {
      "cell_type": "markdown",
      "source": [
        "## Dicionários\n",
        "\n",
        " * Elementos não ordenados (diferente de strings, listas e tuplas)\n",
        " * Indexado por uma `chave`\n",
        " * Cada chave faz referência a um `valor`\n",
        " * NÃO é possível ter duplicação de `chave`, mas SIM de `valor`\n",
        " * Dicionários são mutáveis (como `listas`)\n",
        "\n",
        "\n"
      ],
      "metadata": {
        "id": "WphssWh4qg8R"
      }
    },
    {
      "cell_type": "markdown",
      "source": [
        "Para criar nosso primeiro dicionário, vamos usar aminoácidos como exemplos."
      ],
      "metadata": {
        "id": "OH_jFHoqbalw"
      }
    },
    {
      "cell_type": "code",
      "source": [
        "simbolos_aa = {\"A\":\"Alanina\", \"R\":\"Arginina\", \"N\":\"Asparagina\"}"
      ],
      "metadata": {
        "id": "aY4IFWZvbyI5"
      },
      "execution_count": null,
      "outputs": []
    },
    {
      "cell_type": "code",
      "source": [
        "simbolos_aa"
      ],
      "metadata": {
        "colab": {
          "base_uri": "https://localhost:8080/"
        },
        "id": "twaLgvp8cDbI",
        "outputId": "00262a8f-30d9-419d-a6bc-b92031b6e61b"
      },
      "execution_count": null,
      "outputs": [
        {
          "output_type": "execute_result",
          "data": {
            "text/plain": [
              "{'A': 'Alanina', 'N': 'Asparagina', 'R': 'Arginina'}"
            ]
          },
          "metadata": {},
          "execution_count": 65
        }
      ]
    },
    {
      "cell_type": "markdown",
      "source": [
        "Para acessar um determinado valor no nosso dicionário, basta usar a chave específica que desejamos consultar o valor:"
      ],
      "metadata": {
        "id": "U_xwk_hzfIaF"
      }
    },
    {
      "cell_type": "code",
      "source": [
        "simbolos_aa['A']"
      ],
      "metadata": {
        "colab": {
          "base_uri": "https://localhost:8080/",
          "height": 35
        },
        "id": "BQ02mInJfHt6",
        "outputId": "73cf729a-21b5-4cca-f7d6-86890753419e"
      },
      "execution_count": null,
      "outputs": [
        {
          "output_type": "execute_result",
          "data": {
            "application/vnd.google.colaboratory.intrinsic+json": {
              "type": "string"
            },
            "text/plain": [
              "'Alanina'"
            ]
          },
          "metadata": {},
          "execution_count": 66
        }
      ]
    },
    {
      "cell_type": "code",
      "source": [
        "simbolos_aa.get('A')"
      ],
      "metadata": {
        "colab": {
          "base_uri": "https://localhost:8080/",
          "height": 35
        },
        "id": "8DexU_rFfZ1X",
        "outputId": "08256f1f-7699-41cb-cc42-407d439700fd"
      },
      "execution_count": null,
      "outputs": [
        {
          "output_type": "execute_result",
          "data": {
            "application/vnd.google.colaboratory.intrinsic+json": {
              "type": "string"
            },
            "text/plain": [
              "'Alanina'"
            ]
          },
          "metadata": {},
          "execution_count": 67
        }
      ]
    },
    {
      "cell_type": "markdown",
      "source": [
        "Esta é uma forma de construir dicionário, mas podemos usar uma função chamada `dict`. Ela permite o uso de pares \"chave e valor\" usando diferentes objetos:"
      ],
      "metadata": {
        "id": "dKorWzoDcgjf"
      }
    },
    {
      "cell_type": "code",
      "source": [
        "simbolos_aa = dict({\"A\":\"Alanina\", \"R\":\"Arginina\", \"N\":\"Asparagina\"})"
      ],
      "metadata": {
        "id": "Fbxn2B1Bc7Qs"
      },
      "execution_count": null,
      "outputs": []
    },
    {
      "cell_type": "code",
      "source": [
        "simbolos_aa"
      ],
      "metadata": {
        "colab": {
          "base_uri": "https://localhost:8080/"
        },
        "id": "n3XieLGCc-eZ",
        "outputId": "b18a0623-44da-4f1e-daa6-7d9e579aac4c"
      },
      "execution_count": null,
      "outputs": [
        {
          "output_type": "execute_result",
          "data": {
            "text/plain": [
              "{'A': 'Alanina', 'N': 'Asparagina', 'R': 'Arginina'}"
            ]
          },
          "metadata": {},
          "execution_count": 47
        }
      ]
    },
    {
      "cell_type": "code",
      "source": [
        "simbolos_aa = dict([(\"A\",\"Alanina\"),(\"R\",\"Arginina\"),(\"N\",\"Asparagina\")])"
      ],
      "metadata": {
        "id": "C2OqJe5mdBxz"
      },
      "execution_count": null,
      "outputs": []
    },
    {
      "cell_type": "code",
      "source": [
        "simbolos_aa"
      ],
      "metadata": {
        "colab": {
          "base_uri": "https://localhost:8080/"
        },
        "id": "QcshL0crdLfk",
        "outputId": "0295a74d-5cfe-4cc2-b664-1a224d22b498"
      },
      "execution_count": null,
      "outputs": [
        {
          "output_type": "execute_result",
          "data": {
            "text/plain": [
              "{'A': 'Alanina', 'N': 'Asparagina', 'R': 'Arginina'}"
            ]
          },
          "metadata": {},
          "execution_count": 49
        }
      ]
    },
    {
      "cell_type": "code",
      "source": [
        "simbolos_aa = dict(([\"A\",\"Alanina\"],[\"R\",\"Arginina\"],[\"N\",\"Asparagina\"]))"
      ],
      "metadata": {
        "id": "YpvUuIw8dNca"
      },
      "execution_count": null,
      "outputs": []
    },
    {
      "cell_type": "code",
      "source": [
        "simbolos_aa"
      ],
      "metadata": {
        "colab": {
          "base_uri": "https://localhost:8080/"
        },
        "id": "Hvua6gA0dNkP",
        "outputId": "fbe963c0-4da4-4a34-c351-dcb7401e13dc"
      },
      "execution_count": null,
      "outputs": [
        {
          "output_type": "execute_result",
          "data": {
            "text/plain": [
              "{'A': 'Alanina', 'N': 'Asparagina', 'R': 'Arginina'}"
            ]
          },
          "metadata": {},
          "execution_count": 56
        }
      ]
    },
    {
      "cell_type": "code",
      "source": [
        "simbolos_aa = dict(A=\"Alanina\",R=\"Arginina\",N=\"Asparagina\")"
      ],
      "metadata": {
        "id": "HqwlJfVbdT28"
      },
      "execution_count": null,
      "outputs": []
    },
    {
      "cell_type": "code",
      "source": [
        "simbolos_aa"
      ],
      "metadata": {
        "colab": {
          "base_uri": "https://localhost:8080/"
        },
        "id": "6bVO9PHUdUD4",
        "outputId": "0a499281-4918-4b88-bc3f-03e34a94d998"
      },
      "execution_count": null,
      "outputs": [
        {
          "output_type": "execute_result",
          "data": {
            "text/plain": [
              "{'A': 'Alanina', 'N': 'Asparagina', 'R': 'Arginina'}"
            ]
          },
          "metadata": {},
          "execution_count": 57
        }
      ]
    },
    {
      "cell_type": "markdown",
      "source": [
        "É possível também criar dicionários vazios e adicionar posteriormente elementos a ela. Por exemplo, vamos criar uma lista vazia para depois colocar as associações entre os símbolos e os nomes dos diferentes aminoácidos:"
      ],
      "metadata": {
        "id": "_UqDQkXbetxw"
      }
    },
    {
      "cell_type": "code",
      "source": [
        "simbolos_aa = {}"
      ],
      "metadata": {
        "id": "6sDyE9zfbkud"
      },
      "execution_count": null,
      "outputs": []
    },
    {
      "cell_type": "code",
      "source": [
        "simbolos_aa"
      ],
      "metadata": {
        "colab": {
          "base_uri": "https://localhost:8080/"
        },
        "id": "FyEjqpjYerva",
        "outputId": "5b39d35e-4a79-469f-9011-daebb13c3a82"
      },
      "execution_count": null,
      "outputs": [
        {
          "output_type": "execute_result",
          "data": {
            "text/plain": [
              "{'A': 'Alanina', 'N': 'Asparagina', 'R': 'Arginina'}"
            ]
          },
          "metadata": {},
          "execution_count": 68
        }
      ]
    },
    {
      "cell_type": "code",
      "source": [
        "simbolos_aa['A']='Asparagina'"
      ],
      "metadata": {
        "id": "OMqQFkZCe6_1"
      },
      "execution_count": null,
      "outputs": []
    },
    {
      "cell_type": "markdown",
      "source": [
        "Como os dicionários são estruturas de dados mutáveis, é possível substituir os valores associados a cada uma das chaves. Para isso, basta atribuir um novo valor à chave anteriormente criada:"
      ],
      "metadata": {
        "id": "Mdq3xkahf6vu"
      }
    },
    {
      "cell_type": "code",
      "source": [
        "simbolos_aa['A']='Alanina'"
      ],
      "metadata": {
        "id": "GfOeNnMhf3Xo"
      },
      "execution_count": null,
      "outputs": []
    },
    {
      "cell_type": "code",
      "source": [
        "simbolos_aa['N']='Asparagina'"
      ],
      "metadata": {
        "id": "qHGQPi-ggXbV"
      },
      "execution_count": null,
      "outputs": []
    },
    {
      "cell_type": "code",
      "source": [
        "simbolos_aa['R']='Arginina'"
      ],
      "metadata": {
        "id": "AvB7ExAYgXgI"
      },
      "execution_count": null,
      "outputs": []
    },
    {
      "cell_type": "code",
      "source": [
        "simbolos_aa['B']='Bitinina'"
      ],
      "metadata": {
        "id": "SQy5kLekg6UB"
      },
      "execution_count": null,
      "outputs": []
    },
    {
      "cell_type": "code",
      "source": [
        "simbolos_aa"
      ],
      "metadata": {
        "colab": {
          "base_uri": "https://localhost:8080/"
        },
        "id": "hs8790LngXnu",
        "outputId": "0b701a09-5fef-45a2-e236-571e0875b9d1"
      },
      "execution_count": null,
      "outputs": [
        {
          "output_type": "execute_result",
          "data": {
            "text/plain": [
              "{'A': 'Alanina', 'B': 'Bitinina', 'N': 'Asparagina', 'R': 'Arginina'}"
            ]
          },
          "metadata": {},
          "execution_count": 81
        }
      ]
    },
    {
      "cell_type": "markdown",
      "source": [
        "Podemos também remover itens do nosso dicionário.\n",
        "\n",
        "Há dois métodos para isso:\n",
        " * `.pop(<chave>)`\n",
        " * `.popitem()`\n",
        "\n",
        "E uma palavra chave da linguagem:\n",
        "\n",
        "```python\n",
        "del\n",
        "```"
      ],
      "metadata": {
        "id": "bkTcYSsBgX_r"
      }
    },
    {
      "cell_type": "code",
      "source": [
        "# Remove item, retornando uma tupla com chave e valor\n",
        "simbolos_aa.popitem()"
      ],
      "metadata": {
        "colab": {
          "base_uri": "https://localhost:8080/"
        },
        "id": "5vNz0hO5h6SR",
        "outputId": "171052b5-4956-4cd8-98ec-ee529e588267"
      },
      "execution_count": null,
      "outputs": [
        {
          "output_type": "execute_result",
          "data": {
            "text/plain": [
              "('B', 'Bitinina')"
            ]
          },
          "metadata": {},
          "execution_count": 82
        }
      ]
    },
    {
      "cell_type": "code",
      "source": [
        "simbolos_aa"
      ],
      "metadata": {
        "colab": {
          "base_uri": "https://localhost:8080/"
        },
        "id": "TDjMaDnYh9VZ",
        "outputId": "9da544b1-ac97-43fc-afa4-35eaf0720f63"
      },
      "execution_count": null,
      "outputs": [
        {
          "output_type": "execute_result",
          "data": {
            "text/plain": [
              "{'A': 'Alanina', 'N': 'Asparagina', 'R': 'Arginina'}"
            ]
          },
          "metadata": {},
          "execution_count": 90
        }
      ]
    },
    {
      "cell_type": "code",
      "source": [
        "simbolos_aa['B']='Bitinina'"
      ],
      "metadata": {
        "id": "bxcTe3Jofoec"
      },
      "execution_count": null,
      "outputs": []
    },
    {
      "cell_type": "code",
      "source": [
        "# Remove item, retornando o valor associado à associação chave:valor removida\n",
        "simbolos_aa.pop('B')"
      ],
      "metadata": {
        "colab": {
          "base_uri": "https://localhost:8080/",
          "height": 35
        },
        "id": "3XfBiEeziArp",
        "outputId": "3b968aa2-f393-42ff-8987-b1cc367edfbc"
      },
      "execution_count": null,
      "outputs": [
        {
          "output_type": "execute_result",
          "data": {
            "application/vnd.google.colaboratory.intrinsic+json": {
              "type": "string"
            },
            "text/plain": [
              "'Bitinina'"
            ]
          },
          "metadata": {},
          "execution_count": 89
        }
      ]
    },
    {
      "cell_type": "code",
      "source": [
        "simbolos_aa"
      ],
      "metadata": {
        "colab": {
          "base_uri": "https://localhost:8080/"
        },
        "id": "MBAyB5fLiDMb",
        "outputId": "0e5c09a6-3d07-4075-d26a-aeafdf7bc2e4"
      },
      "execution_count": null,
      "outputs": [
        {
          "output_type": "execute_result",
          "data": {
            "text/plain": [
              "{'A': 'Alanina', 'N': 'Asparagina', 'R': 'Arginina'}"
            ]
          },
          "metadata": {},
          "execution_count": 91
        }
      ]
    },
    {
      "cell_type": "markdown",
      "source": [
        "A propósito, podemos usar a função `len()`, aplicada previamente em strings, listas, tuplas. Ela deve retornar o número de chaves no dicionário:"
      ],
      "metadata": {
        "id": "CWB7ajDHlUIm"
      }
    },
    {
      "cell_type": "code",
      "source": [
        "len(simbolos_aa)"
      ],
      "metadata": {
        "colab": {
          "base_uri": "https://localhost:8080/"
        },
        "id": "OSh-z-V5lIaD",
        "outputId": "3216d4bf-e048-4663-b6c4-dd0279901b79"
      },
      "execution_count": null,
      "outputs": [
        {
          "output_type": "execute_result",
          "data": {
            "text/plain": [
              "3"
            ]
          },
          "metadata": {},
          "execution_count": 92
        }
      ]
    },
    {
      "cell_type": "markdown",
      "source": [
        "Antes de partirmos para a próxima parte da atividade, é importante enfatizar que os dicionários podem ser usados para "
      ],
      "metadata": {
        "id": "kzfnm2Xdlqyi"
      }
    },
    {
      "cell_type": "code",
      "source": [
        ""
      ],
      "metadata": {
        "id": "MtCabGMklpJA"
      },
      "execution_count": null,
      "outputs": []
    },
    {
      "cell_type": "markdown",
      "source": [
        "Além dos métodos que vimos, alguns adicionais que podemos explorar entre hoje e amanhã:\n",
        " * `clear()`\n",
        " * `copy()`\n",
        " * `fromkeys()`\n",
        " * `setdefault()`\n",
        " * `update()`"
      ],
      "metadata": {
        "id": "DmIcUNpYmCyC"
      }
    },
    {
      "cell_type": "markdown",
      "source": [
        "Bom... para facilitar nosso trabalho, vou colar na área de transferência uma associação entre nomes e símbolos de aminoácidos para usarmos na próxima parte da atividade prática:"
      ],
      "metadata": {
        "id": "5mFyODUglIh6"
      }
    },
    {
      "cell_type": "code",
      "source": [
        "{\"alanine\":\"A\",\n",
        "\"arginine\":\"R\",\n",
        "\"asparagine\":\"N\",\n",
        "\"aspartic acid\":\"D\",\n",
        "\"cysteine\":\"C\",\n",
        "\"glutamine\":\"Q\",\n",
        "\"glutamic acid\":\"E\",\n",
        "\"glycine\":\"G\",\n",
        "\"histidine\":\"H\",\n",
        "\"isoleucine\":\"I\",\n",
        "\"leucine\":\"L\",\n",
        "\"lysine\":\"K\",\n",
        "\"methionine\":\"M\",\n",
        "\"phenylalanine\":\"F\",\n",
        "\"proline\":\"P\",\n",
        "\"serine\":\"S\",\n",
        "\"threonine\":\"T\",\n",
        "\"tryptophan\":\"W\",\n",
        "\"tyrosine\":\"Y\",\n",
        "\"valine\":\"V\"}"
      ],
      "metadata": {
        "id": "2FKgo7wLqhGH",
        "colab": {
          "base_uri": "https://localhost:8080/"
        },
        "outputId": "1a59fc31-6e5b-4eb4-c999-77892badb6ef"
      },
      "execution_count": null,
      "outputs": [
        {
          "output_type": "execute_result",
          "data": {
            "text/plain": [
              "{'alanine': 'A',\n",
              " 'arginine': 'R',\n",
              " 'asparagine': 'N',\n",
              " 'aspartic acid': 'D',\n",
              " 'cysteine': 'C',\n",
              " 'glutamic acid': 'E',\n",
              " 'glutamine': 'Q',\n",
              " 'glycine': 'G',\n",
              " 'histidine': 'H',\n",
              " 'isoleucine': 'I',\n",
              " 'leucine': 'L',\n",
              " 'lysine': 'K',\n",
              " 'methionine': 'M',\n",
              " 'phenylalanine': 'F',\n",
              " 'proline': 'P',\n",
              " 'serine': 'S',\n",
              " 'threonine': 'T',\n",
              " 'tryptophan': 'W',\n",
              " 'tyrosine': 'Y',\n",
              " 'valine': 'V'}"
            ]
          },
          "metadata": {},
          "execution_count": 33
        }
      ]
    },
    {
      "cell_type": "code",
      "source": [
        "simbolos_aa = {\"alanine\":\"A\",\n",
        "\"arginine\":\"R\",\n",
        "\"asparagine\":\"N\",\n",
        "\"aspartic acid\":\"D\",\n",
        "\"cysteine\":\"C\",\n",
        "\"glutamine\":\"Q\",\n",
        "\"glutamic acid\":\"E\",\n",
        "\"glycine\":\"G\",\n",
        "\"histidine\":\"H\",\n",
        "\"isoleucine\":\"I\",\n",
        "\"leucine\":\"L\",\n",
        "\"lysine\":\"K\",\n",
        "\"methionine\":\"M\",\n",
        "\"phenylalanine\":\"F\",\n",
        "\"proline\":\"P\",\n",
        "\"serine\":\"S\",\n",
        "\"threonine\":\"T\",\n",
        "\"tryptophan\":\"W\",\n",
        "\"tyrosine\":\"Y\",\n",
        "\"valine\":\"V\"}"
      ],
      "metadata": {
        "id": "WAxRlY0raH5I"
      },
      "execution_count": null,
      "outputs": []
    },
    {
      "cell_type": "code",
      "source": [
        "simbolos_aa.keys()"
      ],
      "metadata": {
        "colab": {
          "base_uri": "https://localhost:8080/"
        },
        "id": "HP14ZOLZaMqu",
        "outputId": "445183b7-493c-466d-b080-141531c50f29"
      },
      "execution_count": null,
      "outputs": [
        {
          "output_type": "execute_result",
          "data": {
            "text/plain": [
              "dict_keys(['alanine', 'arginine', 'asparagine', 'aspartic acid', 'cysteine', 'glutamine', 'glutamic acid', 'glycine', 'histidine', 'isoleucine', 'leucine', 'lysine', 'methionine', 'phenylalanine', 'proline', 'serine', 'threonine', 'tryptophan', 'tyrosine', 'valine'])"
            ]
          },
          "metadata": {},
          "execution_count": 36
        }
      ]
    },
    {
      "cell_type": "code",
      "source": [
        "simbolos_aa.items()"
      ],
      "metadata": {
        "colab": {
          "base_uri": "https://localhost:8080/"
        },
        "id": "csanumioaP1Y",
        "outputId": "7a249a34-3ea2-47f5-aa98-f7ff6f8197f6"
      },
      "execution_count": null,
      "outputs": [
        {
          "output_type": "execute_result",
          "data": {
            "text/plain": [
              "dict_items([('alanine', 'A'), ('arginine', 'R'), ('asparagine', 'N'), ('aspartic acid', 'D'), ('cysteine', 'C'), ('glutamine', 'Q'), ('glutamic acid', 'E'), ('glycine', 'G'), ('histidine', 'H'), ('isoleucine', 'I'), ('leucine', 'L'), ('lysine', 'K'), ('methionine', 'M'), ('phenylalanine', 'F'), ('proline', 'P'), ('serine', 'S'), ('threonine', 'T'), ('tryptophan', 'W'), ('tyrosine', 'Y'), ('valine', 'V')])"
            ]
          },
          "metadata": {},
          "execution_count": 37
        }
      ]
    },
    {
      "cell_type": "code",
      "source": [
        "nomes_aa = {}"
      ],
      "metadata": {
        "id": "FVKV5iZYaVE1"
      },
      "execution_count": null,
      "outputs": []
    },
    {
      "cell_type": "code",
      "source": [
        "for chave in simbolos_aa.items():\n",
        "    nomes_aa[chave[1]]=chave[0]"
      ],
      "metadata": {
        "id": "hgp0tPQXaX5p"
      },
      "execution_count": null,
      "outputs": []
    },
    {
      "cell_type": "code",
      "source": [
        "nomes_aa"
      ],
      "metadata": {
        "colab": {
          "base_uri": "https://localhost:8080/"
        },
        "id": "nzgz--1uasM3",
        "outputId": "79c9f1a7-bfb3-4b4b-feac-5fd55f16b8a0"
      },
      "execution_count": null,
      "outputs": [
        {
          "output_type": "execute_result",
          "data": {
            "text/plain": [
              "{'A': 'alanine',\n",
              " 'C': 'cysteine',\n",
              " 'D': 'aspartic acid',\n",
              " 'E': 'glutamic acid',\n",
              " 'F': 'phenylalanine',\n",
              " 'G': 'glycine',\n",
              " 'H': 'histidine',\n",
              " 'I': 'isoleucine',\n",
              " 'K': 'lysine',\n",
              " 'L': 'leucine',\n",
              " 'M': 'methionine',\n",
              " 'N': 'asparagine',\n",
              " 'P': 'proline',\n",
              " 'Q': 'glutamine',\n",
              " 'R': 'arginine',\n",
              " 'S': 'serine',\n",
              " 'T': 'threonine',\n",
              " 'V': 'valine',\n",
              " 'W': 'tryptophan',\n",
              " 'Y': 'tyrosine'}"
            ]
          },
          "metadata": {},
          "execution_count": 42
        }
      ]
    },
    {
      "cell_type": "markdown",
      "source": [
        ""
      ],
      "metadata": {
        "id": "q20mrP9_1tn3"
      }
    },
    {
      "cell_type": "markdown",
      "source": [
        "# Atividade - Dia 2"
      ],
      "metadata": {
        "id": "a5zyPQGR2tP3"
      }
    },
    {
      "cell_type": "markdown",
      "source": [
        "## Cálculo de GC\n",
        "(capítulo 1 de Libeskind-Hadas e Bush, 2014)\n",
        "\n",
        " * Funções\n",
        " * Condicionais (if, elif, else)\n",
        " * Iteração em strings / loops"
      ],
      "metadata": {
        "id": "TefoftIG2uuE"
      }
    },
    {
      "cell_type": "markdown",
      "source": [
        "Falamos um pouco sobre sequências de DNA ao longo da atividade ontem (27/01), mas vamos olhar mais a fundo em como se espera que as sequências de DNA sejam apresentadas:\n",
        "\n",
        "`5' ATGGTGCCGATGCTATGGCTTACGGCCTACATGGCCGTTGCGGTGCTGACGGCAATCTTGCTCAATGTT 3'`\n",
        "\n",
        "Caso estejamos trabalhando com sequências das duas fitas, a segunda está na direção 3' - 5' e, portanto, deverá ser usado seu reverso complementar.\n"
      ],
      "metadata": {
        "id": "EH-fIFb83qhZ"
      }
    },
    {
      "cell_type": "code",
      "source": [
        "sequencia_dna = \"ATGGTGCCGATGCTATGGCTTACGGCCTACATGGCCGTTGCGGTGCTGACGGCAATCTTGCTCAATGTT\""
      ],
      "metadata": {
        "id": "lgtHq-KO1tvc"
      },
      "execution_count": null,
      "outputs": []
    },
    {
      "cell_type": "code",
      "source": [
        ""
      ],
      "metadata": {
        "id": "m7zvXjKT4xbK"
      },
      "execution_count": null,
      "outputs": []
    },
    {
      "cell_type": "markdown",
      "source": [
        "## Contagem de nucleotídeos\n",
        "(exercício da seção `Bioinformatics Stronghold`)\n",
        "\n",
        " * "
      ],
      "metadata": {
        "id": "QRO5zd4B3hB3"
      }
    },
    {
      "cell_type": "code",
      "source": [
        ""
      ],
      "metadata": {
        "id": "ybD5IuO43hPN"
      },
      "execution_count": null,
      "outputs": []
    },
    {
      "cell_type": "markdown",
      "source": [
        "## Contagem de variantes (substituições)\n",
        "(exercício da seção `Bioinformatics Stronghold`)\n",
        "\n",
        " * "
      ],
      "metadata": {
        "id": "tO6_y1Ix4N1q"
      }
    },
    {
      "cell_type": "markdown",
      "source": [
        "## Bibliotecas\n",
        "\n",
        "As bibliotecas são [...]\n",
        "\n",
        "Alguns exemplos de bibliotecas usadas em biologia:\n",
        "\n",
        " * pandas\n",
        " * matplotlib\n",
        " * seaborn\n",
        " * \n"
      ],
      "metadata": {
        "id": "hwEHRjVU7qVg"
      }
    },
    {
      "cell_type": "markdown",
      "source": [
        "# Referências e fontes\n",
        "\n",
        " * Hunt, J. (2021). A Beginners Guide to Python 3 Programming.\n",
        " * Libeskind-Hadas, R., & Bush, E. (2014). Computing for biologists: Python programming and principles. Cambridge University Press.\n",
        " * Menezes, N. N. C. (2010). Introdução à programação com Python: algoritmos e lógica de programação para iniciantes. Novatec.\n",
        "\n",
        " * https://bebi103a.github.io/lessons/03/index.html"
      ],
      "metadata": {
        "id": "0EwI_HiElIkG"
      }
    },
    {
      "cell_type": "markdown",
      "source": [
        "# Bibliotecas e ferramentas\n",
        "\n",
        "Bibliotecas não foram vista com grande aprofundamento, mas certamente serão no próximo minicurso (COLOCAR AQUI). As bibliotecas apresentam funções, bem como classes de objetos e seus métodos, de forma que o usuário não precisa criar tudo do zero. :-)\n",
        "\n",
        " * Biopython (cálculo de GC, por exemplo, já está implementado aqui)\n",
        " * [Rosalind](https://rosalind.info)\n"
      ],
      "metadata": {
        "id": "jNQbiNvMp6dH"
      }
    },
    {
      "cell_type": "markdown",
      "source": [
        "# Beyond the scope\n",
        "\n",
        "## Sets\n",
        "\n",
        " * Não tem elementos ordenados\n",
        " * Não pode apresentar elementos repetidos\n",
        " \n",
        " Sets são definidos com chaves, como os dicionários:"
      ],
      "metadata": {
        "id": "dp_xC2asEKkX"
      }
    },
    {
      "cell_type": "code",
      "source": [
        "{}"
      ],
      "metadata": {
        "colab": {
          "base_uri": "https://localhost:8080/"
        },
        "id": "E1FW4si-r1Sj",
        "outputId": "5db32dd2-a81c-4456-f37d-e242dd008f18"
      },
      "execution_count": 93,
      "outputs": [
        {
          "output_type": "execute_result",
          "data": {
            "text/plain": [
              "{}"
            ]
          },
          "metadata": {},
          "execution_count": 93
        }
      ]
    },
    {
      "cell_type": "code",
      "source": [
        "set()"
      ],
      "metadata": {
        "colab": {
          "base_uri": "https://localhost:8080/"
        },
        "id": "wtyghDWCtRxe",
        "outputId": "88a802cc-c946-4e3c-dff7-0ef042e1c584"
      },
      "execution_count": 94,
      "outputs": [
        {
          "output_type": "execute_result",
          "data": {
            "text/plain": [
              "set()"
            ]
          },
          "metadata": {},
          "execution_count": 94
        }
      ]
    },
    {
      "cell_type": "code",
      "source": [
        "set({})"
      ],
      "metadata": {
        "colab": {
          "base_uri": "https://localhost:8080/"
        },
        "id": "orwvw2PQtUED",
        "outputId": "1c21d4b4-4424-43cc-af53-eb07b8072b28"
      },
      "execution_count": 95,
      "outputs": [
        {
          "output_type": "execute_result",
          "data": {
            "text/plain": [
              "set()"
            ]
          },
          "metadata": {},
          "execution_count": 95
        }
      ]
    },
    {
      "cell_type": "markdown",
      "source": [
        "### Alguns métodos de sets\n",
        "\n",
        " * `difference()`: calcula a diferença entre dois sets\n",
        " * `union()`: recupera o total de todos os elementos nos sets, sem repetição\n",
        " * `intersect()`: \n",
        " * `add()`: adiciona elementos no set"
      ],
      "metadata": {
        "id": "Uu7epht-sf6B"
      }
    }
  ]
}